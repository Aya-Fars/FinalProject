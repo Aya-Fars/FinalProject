{
  "cells": [
    {
      "cell_type": "markdown",
      "metadata": {
        "id": "ZwSTwS4Ood4I"
      },
      "source": [
        "Social Media Sentiment Analysis\n",
        "Dataset:\n",
        "https://www.kaggle.com/datasets/abdullah0a/social-media-sentiment-analysis-dataset"
      ]
    },
    {
      "cell_type": "code",
      "execution_count": 10,
      "metadata": {
        "id": "oAfrgIesod4Q"
      },
      "outputs": [],
      "source": [
        "import pandas as pd\n",
        "import numpy as np\n",
        "import seaborn as sns\n",
        "import nltk\n",
        "import re\n",
        "import matplotlib.pyplot as plt\n",
        "from sklearn.model_selection import train_test_split\n",
        "from sklearn.linear_model import LinearRegression\n",
        "from sklearn.metrics import r2_score,mean_squared_error"
      ]
    },
    {
      "cell_type": "code",
      "execution_count": 11,
      "metadata": {
        "colab": {
          "base_uri": "https://localhost:8080/",
          "height": 424
        },
        "id": "4Tk5cBp-od4U",
        "outputId": "be51c29a-c893-4feb-8b56-bbcb739bfac8"
      },
      "outputs": [
        {
          "data": {
            "text/html": [
              "<div>\n",
              "<style scoped>\n",
              "    .dataframe tbody tr th:only-of-type {\n",
              "        vertical-align: middle;\n",
              "    }\n",
              "\n",
              "    .dataframe tbody tr th {\n",
              "        vertical-align: top;\n",
              "    }\n",
              "\n",
              "    .dataframe thead th {\n",
              "        text-align: right;\n",
              "    }\n",
              "</style>\n",
              "<table border=\"1\" class=\"dataframe\">\n",
              "  <thead>\n",
              "    <tr style=\"text-align: right;\">\n",
              "      <th></th>\n",
              "      <th>Id</th>\n",
              "      <th>Body</th>\n",
              "      <th>Sentiment Type</th>\n",
              "    </tr>\n",
              "  </thead>\n",
              "  <tbody>\n",
              "    <tr>\n",
              "      <th>0</th>\n",
              "      <td>1</td>\n",
              "      <td>rule 2 no metes about polarizing political top...</td>\n",
              "      <td>neutral</td>\n",
              "    </tr>\n",
              "    <tr>\n",
              "      <th>1</th>\n",
              "      <td>2</td>\n",
              "      <td>NaN</td>\n",
              "      <td>neutral</td>\n",
              "    </tr>\n",
              "    <tr>\n",
              "      <th>2</th>\n",
              "      <td>3</td>\n",
              "      <td>no politics danger now i can make a propaganda...</td>\n",
              "      <td>negative</td>\n",
              "    </tr>\n",
              "    <tr>\n",
              "      <th>3</th>\n",
              "      <td>4</td>\n",
              "      <td>i am the senate gets stabbed</td>\n",
              "      <td>neutral</td>\n",
              "    </tr>\n",
              "    <tr>\n",
              "      <th>4</th>\n",
              "      <td>5</td>\n",
              "      <td>is this a suicide</td>\n",
              "      <td>neutral</td>\n",
              "    </tr>\n",
              "    <tr>\n",
              "      <th>...</th>\n",
              "      <td>...</td>\n",
              "      <td>...</td>\n",
              "      <td>...</td>\n",
              "    </tr>\n",
              "    <tr>\n",
              "      <th>1995</th>\n",
              "      <td>1996</td>\n",
              "      <td>god gen alpha needs to chill</td>\n",
              "      <td>neutral</td>\n",
              "    </tr>\n",
              "    <tr>\n",
              "      <th>1996</th>\n",
              "      <td>1997</td>\n",
              "      <td>people when new generation does anything</td>\n",
              "      <td>positive</td>\n",
              "    </tr>\n",
              "    <tr>\n",
              "      <th>1997</th>\n",
              "      <td>1998</td>\n",
              "      <td>me when minor inconvenience</td>\n",
              "      <td>negative</td>\n",
              "    </tr>\n",
              "    <tr>\n",
              "      <th>1998</th>\n",
              "      <td>1999</td>\n",
              "      <td>as a gen z who didn experience brain rot in we...</td>\n",
              "      <td>negative</td>\n",
              "    </tr>\n",
              "    <tr>\n",
              "      <th>1999</th>\n",
              "      <td>2000</td>\n",
              "      <td>ah the vine era had a boatload of cringe quote...</td>\n",
              "      <td>negative</td>\n",
              "    </tr>\n",
              "  </tbody>\n",
              "</table>\n",
              "<p>2000 rows × 3 columns</p>\n",
              "</div>"
            ],
            "text/plain": [
              "        Id                                               Body Sentiment Type\n",
              "0        1  rule 2 no metes about polarizing political top...        neutral\n",
              "1        2                                                NaN        neutral\n",
              "2        3  no politics danger now i can make a propaganda...       negative\n",
              "3        4                       i am the senate gets stabbed        neutral\n",
              "4        5                                  is this a suicide        neutral\n",
              "...    ...                                                ...            ...\n",
              "1995  1996                       god gen alpha needs to chill        neutral\n",
              "1996  1997           people when new generation does anything       positive\n",
              "1997  1998                        me when minor inconvenience       negative\n",
              "1998  1999  as a gen z who didn experience brain rot in we...       negative\n",
              "1999  2000  ah the vine era had a boatload of cringe quote...       negative\n",
              "\n",
              "[2000 rows x 3 columns]"
            ]
          },
          "execution_count": 11,
          "metadata": {},
          "output_type": "execute_result"
        }
      ],
      "source": [
        "data=pd.read_csv(r\"c:\\Users\\AFAQE\\Downloads\\data\\Sentimet Analysis\\Train.csv\")\n",
        "data"
      ]
    },
    {
      "cell_type": "code",
      "execution_count": 15,
      "metadata": {
        "colab": {
          "base_uri": "https://localhost:8080/"
        },
        "id": "V0pV44L6od4X",
        "outputId": "a3489564-da1a-40f8-ed29-8b8b560404dd"
      },
      "outputs": [
        {
          "name": "stdout",
          "output_type": "stream",
          "text": [
            "<class 'pandas.core.frame.DataFrame'>\n",
            "RangeIndex: 2000 entries, 0 to 1999\n",
            "Data columns (total 3 columns):\n",
            " #   Column          Non-Null Count  Dtype \n",
            "---  ------          --------------  ----- \n",
            " 0   Id              2000 non-null   int64 \n",
            " 1   Body            1772 non-null   object\n",
            " 2   Sentiment Type  2000 non-null   object\n",
            "dtypes: int64(1), object(2)\n",
            "memory usage: 47.0+ KB\n"
          ]
        }
      ],
      "source": [
        "data.info()"
      ]
    },
    {
      "cell_type": "code",
      "execution_count": 13,
      "metadata": {
        "colab": {
          "base_uri": "https://localhost:8080/",
          "height": 300
        },
        "id": "85_gJxvaod4Z",
        "outputId": "d21e6d8a-05cb-453e-a4de-73f3b3668aab"
      },
      "outputs": [
        {
          "data": {
            "text/html": [
              "<div>\n",
              "<style scoped>\n",
              "    .dataframe tbody tr th:only-of-type {\n",
              "        vertical-align: middle;\n",
              "    }\n",
              "\n",
              "    .dataframe tbody tr th {\n",
              "        vertical-align: top;\n",
              "    }\n",
              "\n",
              "    .dataframe thead th {\n",
              "        text-align: right;\n",
              "    }\n",
              "</style>\n",
              "<table border=\"1\" class=\"dataframe\">\n",
              "  <thead>\n",
              "    <tr style=\"text-align: right;\">\n",
              "      <th></th>\n",
              "      <th>Id</th>\n",
              "    </tr>\n",
              "  </thead>\n",
              "  <tbody>\n",
              "    <tr>\n",
              "      <th>count</th>\n",
              "      <td>2000.0</td>\n",
              "    </tr>\n",
              "    <tr>\n",
              "      <th>mean</th>\n",
              "      <td>1000.5</td>\n",
              "    </tr>\n",
              "    <tr>\n",
              "      <th>std</th>\n",
              "      <td>577.5</td>\n",
              "    </tr>\n",
              "    <tr>\n",
              "      <th>min</th>\n",
              "      <td>1.0</td>\n",
              "    </tr>\n",
              "    <tr>\n",
              "      <th>25%</th>\n",
              "      <td>500.8</td>\n",
              "    </tr>\n",
              "    <tr>\n",
              "      <th>50%</th>\n",
              "      <td>1000.5</td>\n",
              "    </tr>\n",
              "    <tr>\n",
              "      <th>75%</th>\n",
              "      <td>1500.2</td>\n",
              "    </tr>\n",
              "    <tr>\n",
              "      <th>max</th>\n",
              "      <td>2000.0</td>\n",
              "    </tr>\n",
              "  </tbody>\n",
              "</table>\n",
              "</div>"
            ],
            "text/plain": [
              "           Id\n",
              "count  2000.0\n",
              "mean   1000.5\n",
              "std     577.5\n",
              "min       1.0\n",
              "25%     500.8\n",
              "50%    1000.5\n",
              "75%    1500.2\n",
              "max    2000.0"
            ]
          },
          "execution_count": 13,
          "metadata": {},
          "output_type": "execute_result"
        }
      ],
      "source": [
        "data.describe().round(1)"
      ]
    },
    {
      "cell_type": "code",
      "execution_count": 16,
      "metadata": {
        "colab": {
          "base_uri": "https://localhost:8080/",
          "height": 178
        },
        "id": "O7yuaAwzod4a",
        "outputId": "f474e12b-4ccf-47be-afc5-00dea7c22df8"
      },
      "outputs": [
        {
          "data": {
            "text/plain": [
              "Id                  0\n",
              "Body              228\n",
              "Sentiment Type      0\n",
              "dtype: int64"
            ]
          },
          "execution_count": 16,
          "metadata": {},
          "output_type": "execute_result"
        }
      ],
      "source": [
        "data.isna().sum()"
      ]
    },
    {
      "cell_type": "code",
      "execution_count": 17,
      "metadata": {
        "id": "Mz5n-5f1tyEI"
      },
      "outputs": [],
      "source": [
        "data.dropna(inplace=True)"
      ]
    },
    {
      "cell_type": "code",
      "execution_count": 18,
      "metadata": {
        "colab": {
          "base_uri": "https://localhost:8080/",
          "height": 178
        },
        "id": "j3xdSHhCt4-g",
        "outputId": "cd9ef99a-b45f-416e-a874-2f66afa6569e"
      },
      "outputs": [
        {
          "data": {
            "text/plain": [
              "Id                0\n",
              "Body              0\n",
              "Sentiment Type    0\n",
              "dtype: int64"
            ]
          },
          "execution_count": 18,
          "metadata": {},
          "output_type": "execute_result"
        }
      ],
      "source": [
        "data.isna().sum()"
      ]
    },
    {
      "cell_type": "code",
      "execution_count": 19,
      "metadata": {
        "colab": {
          "base_uri": "https://localhost:8080/",
          "height": 458
        },
        "id": "4HUwO5BtuOrc",
        "outputId": "40bfb0fa-4f1c-4414-88bc-009420e58c1a"
      },
      "outputs": [
        {
          "data": {
            "text/plain": [
              "0       rule 2 no metes about polarizing political top...\n",
              "2       no politics danger now i can make a propaganda...\n",
              "3                            i am the senate gets stabbed\n",
              "4                                       is this a suicide\n",
              "5                                                 removed\n",
              "                              ...                        \n",
              "1995                         god gen alpha needs to chill\n",
              "1996             people when new generation does anything\n",
              "1997                          me when minor inconvenience\n",
              "1998    as a gen z who didn experience brain rot in we...\n",
              "1999    ah the vine era had a boatload of cringe quote...\n",
              "Name: Body, Length: 1772, dtype: object"
            ]
          },
          "execution_count": 19,
          "metadata": {},
          "output_type": "execute_result"
        }
      ],
      "source": [
        "data['Body']"
      ]
    },
    {
      "cell_type": "code",
      "execution_count": 10,
      "metadata": {
        "id": "6hWiGoQGukbo"
      },
      "outputs": [],
      "source": [
        "train = data['Body'].to_numpy()"
      ]
    },
    {
      "cell_type": "code",
      "execution_count": 11,
      "metadata": {
        "colab": {
          "base_uri": "https://localhost:8080/",
          "height": 35
        },
        "id": "s7V8eGtjusj_",
        "outputId": "ae7da77d-d58a-4bf1-e9c3-03798e04fbca"
      },
      "outputs": [
        {
          "data": {
            "text/plain": [
              "'no politics danger now i can make a propaganda meme telling people to vote for julius caesar in the 59 bc roman senate elections'"
            ]
          },
          "execution_count": 11,
          "metadata": {},
          "output_type": "execute_result"
        }
      ],
      "source": [
        "train[1]"
      ]
    },
    {
      "cell_type": "code",
      "execution_count": 12,
      "metadata": {
        "colab": {
          "base_uri": "https://localhost:8080/",
          "height": 454
        },
        "id": "hSHemkBTod4b",
        "outputId": "4041ed63-6020-4180-9a1a-f20a86195b85"
      },
      "outputs": [
        {
          "data": {
            "text/plain": [
              "<Axes: >"
            ]
          },
          "execution_count": 12,
          "metadata": {},
          "output_type": "execute_result"
        },
        {
          "data": {
            "image/png": "[encoded data removed]",
            "text/plain": [
              "<Figure size 640x480 with 2 Axes>"
            ]
          },
          "metadata": {},
          "output_type": "display_data"
        }
      ],
      "source": [
        "sns.heatmap(data.isna())"
      ]
    },
    {
      "cell_type": "code",
      "execution_count": 20,
      "metadata": {},
      "outputs": [
        {
          "data": {
            "image/png": "[encoded data removed]",
            "text/plain": [
              "<Figure size 1000x600 with 2 Axes>"
            ]
          },
          "metadata": {},
          "output_type": "display_data"
        }
      ],
      "source": [
        "numeric_data = data.select_dtypes(include=['float64', 'int64'])\n",
        "\n",
        "if not numeric_data.empty:\n",
        "    plt.figure(figsize=(10, 6))  \n",
        "    correlation_matrix = numeric_data.corr()\n",
        "    \n",
        "    sns.heatmap(correlation_matrix, annot=True, cmap='coolwarm', fmt=\".2f\", linewidths=0.5)\n",
        "    plt.title('Correlation Heatmap', fontsize=16)\n",
        "\n",
        "    plt.show()\n",
        "else:\n",
        "    print(\"No numeric columns to compute correlation.\")"
      ]
    },
    {
      "cell_type": "code",
      "execution_count": 13,
      "metadata": {
        "colab": {
          "base_uri": "https://localhost:8080/",
          "height": 206
        },
        "id": "uGa9Ou_Ood4d",
        "outputId": "0278fa42-dc2f-4fd6-9719-ec86a48d7a60"
      },
      "outputs": [
        {
          "data": {
            "text/html": [
              "<div>\n",
              "<style scoped>\n",
              "    .dataframe tbody tr th:only-of-type {\n",
              "        vertical-align: middle;\n",
              "    }\n",
              "\n",
              "    .dataframe tbody tr th {\n",
              "        vertical-align: top;\n",
              "    }\n",
              "\n",
              "    .dataframe thead th {\n",
              "        text-align: right;\n",
              "    }\n",
              "</style>\n",
              "<table border=\"1\" class=\"dataframe\">\n",
              "  <thead>\n",
              "    <tr style=\"text-align: right;\">\n",
              "      <th></th>\n",
              "      <th>Id</th>\n",
              "      <th>Body</th>\n",
              "      <th>Sentiment Type</th>\n",
              "    </tr>\n",
              "  </thead>\n",
              "  <tbody>\n",
              "    <tr>\n",
              "      <th>0</th>\n",
              "      <td>1</td>\n",
              "      <td>rule 2 no metes about polarizing political top...</td>\n",
              "      <td>0</td>\n",
              "    </tr>\n",
              "    <tr>\n",
              "      <th>2</th>\n",
              "      <td>3</td>\n",
              "      <td>no politics danger now i can make a propaganda...</td>\n",
              "      <td>2</td>\n",
              "    </tr>\n",
              "    <tr>\n",
              "      <th>3</th>\n",
              "      <td>4</td>\n",
              "      <td>i am the senate gets stabbed</td>\n",
              "      <td>0</td>\n",
              "    </tr>\n",
              "    <tr>\n",
              "      <th>4</th>\n",
              "      <td>5</td>\n",
              "      <td>is this a suicide</td>\n",
              "      <td>0</td>\n",
              "    </tr>\n",
              "    <tr>\n",
              "      <th>5</th>\n",
              "      <td>6</td>\n",
              "      <td>removed</td>\n",
              "      <td>0</td>\n",
              "    </tr>\n",
              "  </tbody>\n",
              "</table>\n",
              "</div>"
            ],
            "text/plain": [
              "   Id                                               Body  Sentiment Type\n",
              "0   1  rule 2 no metes about polarizing political top...               0\n",
              "2   3  no politics danger now i can make a propaganda...               2\n",
              "3   4                       i am the senate gets stabbed               0\n",
              "4   5                                  is this a suicide               0\n",
              "5   6                                            removed               0"
            ]
          },
          "execution_count": 13,
          "metadata": {},
          "output_type": "execute_result"
        }
      ],
      "source": [
        "data['Sentiment Type'] = data['Sentiment Type'].map({\n",
        "    'neutral': 0,\n",
        "    'positive': 1,\n",
        "    'negative': 2\n",
        "})\n",
        "\n",
        "\n",
        "data.head()"
      ]
    },
    {
      "cell_type": "code",
      "execution_count": 14,
      "metadata": {
        "colab": {
          "base_uri": "https://localhost:8080/"
        },
        "id": "d2UwV4p2od4e",
        "outputId": "ee525ec5-6e5a-4220-c36a-1a54818d5700"
      },
      "outputs": [
        {
          "name": "stdout",
          "output_type": "stream",
          "text": [
            "Index(['Id', 'Body', 'Sentiment Type'], dtype='object')\n"
          ]
        }
      ],
      "source": [
        "print(data.columns)\n"
      ]
    },
    {
      "cell_type": "markdown",
      "metadata": {
        "id": "PsAhVsxQod4g"
      },
      "source": [
        "#Exploratory Data Analysis (EDA)"
      ]
    },
    {
      "cell_type": "code",
      "execution_count": 16,
      "metadata": {
        "id": "ioo38MUYod4h"
      },
      "outputs": [
        {
          "data": {
            "text/plain": [
              "Sentiment Type\n",
              "0    782\n",
              "1    632\n",
              "2    358\n",
              "Name: count, dtype: int64"
            ]
          },
          "execution_count": 16,
          "metadata": {},
          "output_type": "execute_result"
        }
      ],
      "source": [
        "data['Sentiment Type'].value_counts()"
      ]
    },
    {
      "cell_type": "code",
      "execution_count": 18,
      "metadata": {
        "id": "HurWGz9Iod4i"
      },
      "outputs": [
        {
          "data": {
            "text/plain": [
              "0       531\n",
              "2       128\n",
              "3        28\n",
              "4        17\n",
              "5         7\n",
              "       ... \n",
              "1995     28\n",
              "1996     40\n",
              "1997     27\n",
              "1998    167\n",
              "1999    139\n",
              "Name: Body, Length: 1772, dtype: int64"
            ]
          },
          "execution_count": 18,
          "metadata": {},
          "output_type": "execute_result"
        }
      ],
      "source": [
        "data['Body'].apply(len)"
      ]
    },
    {
      "cell_type": "code",
      "execution_count": 19,
      "metadata": {
        "id": "3Zw2eICVod4j"
      },
      "outputs": [
        {
          "data": {
            "text/plain": [
              "804"
            ]
          },
          "execution_count": 19,
          "metadata": {},
          "output_type": "execute_result"
        }
      ],
      "source": [
        "data['Body'].apply(len).max()"
      ]
    },
    {
      "cell_type": "code",
      "execution_count": 20,
      "metadata": {
        "id": "IRbn2NQ9od4k"
      },
      "outputs": [
        {
          "data": {
            "text/plain": [
              "<Axes: xlabel='Sentiment Type', ylabel='count'>"
            ]
          },
          "execution_count": 20,
          "metadata": {},
          "output_type": "execute_result"
        },
        {
          "data": {
            "image/png": "[encoded data removed]",
            "text/plain": [
              "<Figure size 640x480 with 1 Axes>"
            ]
          },
          "metadata": {},
          "output_type": "display_data"
        }
      ],
      "source": [
        "sns.countplot(x='Sentiment Type',data=data,color='pink')"
      ]
    },
    {
      "cell_type": "code",
      "execution_count": 21,
      "metadata": {
        "id": "Cubtdb6qod4k"
      },
      "outputs": [
        {
          "data": {
            "text/plain": [
              "<Axes: xlabel='Sentiment Type', ylabel='count'>"
            ]
          },
          "execution_count": 21,
          "metadata": {},
          "output_type": "execute_result"
        },
        {
          "data": {
            "image/png": "[encoded data removed]",
            "text/plain": [
              "<Figure size 640x480 with 1 Axes>"
            ]
          },
          "metadata": {},
          "output_type": "display_data"
        }
      ],
      "source": [
        "sns.countplot(x='Sentiment Type',data=data,hue='Sentiment Type',palette='pastel')"
      ]
    },
    {
      "cell_type": "code",
      "execution_count": 22,
      "metadata": {
        "id": "KiinGfHeod4l"
      },
      "outputs": [
        {
          "data": {
            "text/plain": [
              "<Axes: >"
            ]
          },
          "execution_count": 22,
          "metadata": {},
          "output_type": "execute_result"
        },
        {
          "data": {
            "image/png": "[encoded data removed]",
            "text/plain": [
              "<Figure size 640x480 with 1 Axes>"
            ]
          },
          "metadata": {},
          "output_type": "display_data"
        }
      ],
      "source": [
        "data['Sentiment Type'].hist(bins=20)"
      ]
    },
    {
      "cell_type": "code",
      "execution_count": 23,
      "metadata": {
        "colab": {
          "base_uri": "https://localhost:8080/",
          "height": 391
        },
        "id": "F1jvGuDEod4m",
        "outputId": "ab480bf1-ae8d-42f1-e543-4ed112089d99"
      },
      "outputs": [
        {
          "data": {
            "text/html": [
              "<div>\n",
              "<style scoped>\n",
              "    .dataframe tbody tr th:only-of-type {\n",
              "        vertical-align: middle;\n",
              "    }\n",
              "\n",
              "    .dataframe tbody tr th {\n",
              "        vertical-align: top;\n",
              "    }\n",
              "\n",
              "    .dataframe thead th {\n",
              "        text-align: right;\n",
              "    }\n",
              "</style>\n",
              "<table border=\"1\" class=\"dataframe\">\n",
              "  <thead>\n",
              "    <tr style=\"text-align: right;\">\n",
              "      <th></th>\n",
              "      <th>text_length</th>\n",
              "      <th>word_count</th>\n",
              "    </tr>\n",
              "  </thead>\n",
              "  <tbody>\n",
              "    <tr>\n",
              "      <th>count</th>\n",
              "      <td>1772.0</td>\n",
              "      <td>1772.0</td>\n",
              "    </tr>\n",
              "    <tr>\n",
              "      <th>mean</th>\n",
              "      <td>78.4</td>\n",
              "      <td>14.9</td>\n",
              "    </tr>\n",
              "    <tr>\n",
              "      <th>std</th>\n",
              "      <td>89.3</td>\n",
              "      <td>16.9</td>\n",
              "    </tr>\n",
              "    <tr>\n",
              "      <th>min</th>\n",
              "      <td>1.0</td>\n",
              "      <td>1.0</td>\n",
              "    </tr>\n",
              "    <tr>\n",
              "      <th>25%</th>\n",
              "      <td>26.0</td>\n",
              "      <td>5.0</td>\n",
              "    </tr>\n",
              "    <tr>\n",
              "      <th>50%</th>\n",
              "      <td>48.0</td>\n",
              "      <td>9.0</td>\n",
              "    </tr>\n",
              "    <tr>\n",
              "      <th>75%</th>\n",
              "      <td>94.0</td>\n",
              "      <td>18.0</td>\n",
              "    </tr>\n",
              "    <tr>\n",
              "      <th>max</th>\n",
              "      <td>804.0</td>\n",
              "      <td>147.0</td>\n",
              "    </tr>\n",
              "  </tbody>\n",
              "</table>\n",
              "</div>"
            ],
            "text/plain": [
              "       text_length  word_count\n",
              "count       1772.0      1772.0\n",
              "mean          78.4        14.9\n",
              "std           89.3        16.9\n",
              "min            1.0         1.0\n",
              "25%           26.0         5.0\n",
              "50%           48.0         9.0\n",
              "75%           94.0        18.0\n",
              "max          804.0       147.0"
            ]
          },
          "execution_count": 23,
          "metadata": {},
          "output_type": "execute_result"
        }
      ],
      "source": [
        "# حساب طول كل منشور\n",
        "data['text_length'] = data['Body'].apply(len)\n",
        "\n",
        "# حساب عدد الكلمات\n",
        "data['word_count'] = data['Body'].apply(lambda x: len(x.split()))\n",
        "\n",
        "# عرض إحصائيات الوصف الأساسية\n",
        "data[['text_length', 'word_count']].describe().round(1)\n"
      ]
    },
    {
      "cell_type": "code",
      "execution_count": 24,
      "metadata": {
        "id": "7Incr8viod4n"
      },
      "outputs": [
        {
          "data": {
            "text/plain": [
              "583        she looks like her dad happens alllll the time\n",
              "1390                                          fly as hell\n",
              "1052    my favorite is when you get banner from a sub ...\n",
              "1904    that that was the most beautiful fucking piece...\n",
              "1854                                 just dont get robbed\n",
              "Name: Body, dtype: object"
            ]
          },
          "execution_count": 24,
          "metadata": {},
          "output_type": "execute_result"
        }
      ],
      "source": [
        "\n",
        "# عرض بعض العينات من المنشورات\n",
        "data['Body'].sample(5)\n"
      ]
    },
    {
      "cell_type": "code",
      "execution_count": 26,
      "metadata": {
        "id": "gJS0FQtOod4o"
      },
      "outputs": [
        {
          "data": {
            "image/png": "[encoded data removed]",
            "text/plain": [
              "<Figure size 640x480 with 1 Axes>"
            ]
          },
          "metadata": {},
          "output_type": "display_data"
        }
      ],
      "source": [
        "from collections import Counter\n",
        "import matplotlib.pyplot as plt\n",
        "\n",
        "# حساب الكلمات الأكثر تكراراً\n",
        "word_freq = Counter(\" \".join(data['Body']).split())\n",
        "\n",
        "# استخراج الكلمات الأكثر تكراراً\n",
        "common_words = word_freq.most_common(10)\n",
        "\n",
        "# عرض النتائج\n",
        "plt.bar([item[0] for item in common_words], [item[1] for item in common_words],color=\"pink\")\n",
        "plt.title('Ten Most Frequent Words')\n",
        "plt.show()\n"
      ]
    },
    {
      "cell_type": "code",
      "execution_count": 28,
      "metadata": {
        "id": "Zx4uRbSCod4p"
      },
      "outputs": [
        {
          "data": {
            "image/png": "[encoded data removed]",
            "text/plain": [
              "<Figure size 640x480 with 1 Axes>"
            ]
          },
          "metadata": {},
          "output_type": "display_data"
        }
      ],
      "source": [
        "data.groupby('Sentiment Type').size().plot(kind='barh', color=sns.palettes.mpl_palette('Dark2'))\n",
        "plt.gca().spines[['top', 'right',]].set_visible(False)\n"
      ]
    },
    {
      "cell_type": "code",
      "execution_count": 5,
      "metadata": {
        "id": "tPJ9mM4uod4p"
      },
      "outputs": [],
      "source": [
        "from nltk.corpus import stopwords"
      ]
    },
    {
      "cell_type": "code",
      "execution_count": 3,
      "metadata": {
        "colab": {
          "base_uri": "https://localhost:8080/"
        },
        "id": "p9eTYXCaod4q",
        "outputId": "bedc655e-9a11-4ec4-b2bf-7e6fbd7f6c21"
      },
      "outputs": [
        {
          "name": "stderr",
          "output_type": "stream",
          "text": [
            "[nltk_data] Downloading package stopwords to\n",
            "[nltk_data]     C:\\Users\\AFAQE\\AppData\\Roaming\\nltk_data...\n",
            "[nltk_data]   Package stopwords is already up-to-date!\n"
          ]
        },
        {
          "data": {
            "text/plain": [
              "True"
            ]
          },
          "execution_count": 3,
          "metadata": {},
          "output_type": "execute_result"
        }
      ],
      "source": [
        "nltk.download('stopwords')"
      ]
    },
    {
      "cell_type": "code",
      "execution_count": 6,
      "metadata": {
        "colab": {
          "base_uri": "https://localhost:8080/"
        },
        "id": "RKTDCC6sod4q",
        "outputId": "bf0b14d8-25d9-4b14-cf26-a40eee989395"
      },
      "outputs": [
        {
          "data": {
            "text/plain": [
              "['i',\n",
              " 'me',\n",
              " 'my',\n",
              " 'myself',\n",
              " 'we',\n",
              " 'our',\n",
              " 'ours',\n",
              " 'ourselves',\n",
              " 'you',\n",
              " \"you're\",\n",
              " \"you've\",\n",
              " \"you'll\",\n",
              " \"you'd\",\n",
              " 'your',\n",
              " 'yours',\n",
              " 'yourself',\n",
              " 'yourselves',\n",
              " 'he',\n",
              " 'him',\n",
              " 'his',\n",
              " 'himself',\n",
              " 'she',\n",
              " \"she's\",\n",
              " 'her',\n",
              " 'hers',\n",
              " 'herself',\n",
              " 'it',\n",
              " \"it's\",\n",
              " 'its',\n",
              " 'itself',\n",
              " 'they',\n",
              " 'them',\n",
              " 'their',\n",
              " 'theirs',\n",
              " 'themselves',\n",
              " 'what',\n",
              " 'which',\n",
              " 'who',\n",
              " 'whom',\n",
              " 'this',\n",
              " 'that',\n",
              " \"that'll\",\n",
              " 'these',\n",
              " 'those',\n",
              " 'am',\n",
              " 'is',\n",
              " 'are',\n",
              " 'was',\n",
              " 'were',\n",
              " 'be',\n",
              " 'been',\n",
              " 'being',\n",
              " 'have',\n",
              " 'has',\n",
              " 'had',\n",
              " 'having',\n",
              " 'do',\n",
              " 'does',\n",
              " 'did',\n",
              " 'doing',\n",
              " 'a',\n",
              " 'an',\n",
              " 'the',\n",
              " 'and',\n",
              " 'but',\n",
              " 'if',\n",
              " 'or',\n",
              " 'because',\n",
              " 'as',\n",
              " 'until',\n",
              " 'while',\n",
              " 'of',\n",
              " 'at',\n",
              " 'by',\n",
              " 'for',\n",
              " 'with',\n",
              " 'about',\n",
              " 'against',\n",
              " 'between',\n",
              " 'into',\n",
              " 'through',\n",
              " 'during',\n",
              " 'before',\n",
              " 'after',\n",
              " 'above',\n",
              " 'below',\n",
              " 'to',\n",
              " 'from',\n",
              " 'up',\n",
              " 'down',\n",
              " 'in',\n",
              " 'out',\n",
              " 'on',\n",
              " 'off',\n",
              " 'over',\n",
              " 'under',\n",
              " 'again',\n",
              " 'further',\n",
              " 'then',\n",
              " 'once',\n",
              " 'here',\n",
              " 'there',\n",
              " 'when',\n",
              " 'where',\n",
              " 'why',\n",
              " 'how',\n",
              " 'all',\n",
              " 'any',\n",
              " 'both',\n",
              " 'each',\n",
              " 'few',\n",
              " 'more',\n",
              " 'most',\n",
              " 'other',\n",
              " 'some',\n",
              " 'such',\n",
              " 'no',\n",
              " 'nor',\n",
              " 'not',\n",
              " 'only',\n",
              " 'own',\n",
              " 'same',\n",
              " 'so',\n",
              " 'than',\n",
              " 'too',\n",
              " 'very',\n",
              " 's',\n",
              " 't',\n",
              " 'can',\n",
              " 'will',\n",
              " 'just',\n",
              " 'don',\n",
              " \"don't\",\n",
              " 'should',\n",
              " \"should've\",\n",
              " 'now',\n",
              " 'd',\n",
              " 'll',\n",
              " 'm',\n",
              " 'o',\n",
              " 're',\n",
              " 've',\n",
              " 'y',\n",
              " 'ain',\n",
              " 'aren',\n",
              " \"aren't\",\n",
              " 'couldn',\n",
              " \"couldn't\",\n",
              " 'didn',\n",
              " \"didn't\",\n",
              " 'doesn',\n",
              " \"doesn't\",\n",
              " 'hadn',\n",
              " \"hadn't\",\n",
              " 'hasn',\n",
              " \"hasn't\",\n",
              " 'haven',\n",
              " \"haven't\",\n",
              " 'isn',\n",
              " \"isn't\",\n",
              " 'ma',\n",
              " 'mightn',\n",
              " \"mightn't\",\n",
              " 'mustn',\n",
              " \"mustn't\",\n",
              " 'needn',\n",
              " \"needn't\",\n",
              " 'shan',\n",
              " \"shan't\",\n",
              " 'shouldn',\n",
              " \"shouldn't\",\n",
              " 'wasn',\n",
              " \"wasn't\",\n",
              " 'weren',\n",
              " \"weren't\",\n",
              " 'won',\n",
              " \"won't\",\n",
              " 'wouldn',\n",
              " \"wouldn't\"]"
            ]
          },
          "execution_count": 6,
          "metadata": {},
          "output_type": "execute_result"
        }
      ],
      "source": [
        "stopwords.words('english')"
      ]
    },
    {
      "cell_type": "code",
      "execution_count": 8,
      "metadata": {
        "colab": {
          "base_uri": "https://localhost:8080/",
          "height": 87
        },
        "id": "15kHT4L4od4t",
        "outputId": "3ebad114-a585-4944-cb88-c12821cd6eb2"
      },
      "outputs": [
        {
          "ename": "NameError",
          "evalue": "name 'data' is not defined",
          "output_type": "error",
          "traceback": [
            "\u001b[1;31m---------------------------------------------------------------------------\u001b[0m",
            "\u001b[1;31mNameError\u001b[0m                                 Traceback (most recent call last)",
            "Cell \u001b[1;32mIn[8], line 1\u001b[0m\n\u001b[1;32m----> 1\u001b[0m a\u001b[38;5;241m=\u001b[39m\u001b[43mdata\u001b[49m[\u001b[38;5;124m'\u001b[39m\u001b[38;5;124mBody\u001b[39m\u001b[38;5;124m'\u001b[39m] [\u001b[38;5;241m0\u001b[39m]\n\u001b[0;32m      2\u001b[0m a\n",
            "\u001b[1;31mNameError\u001b[0m: name 'data' is not defined"
          ]
        }
      ],
      "source": [
        "a=data['Body'] [0]\n",
        "a"
      ]
    },
    {
      "cell_type": "code",
      "execution_count": null,
      "metadata": {
        "colab": {
          "base_uri": "https://localhost:8080/",
          "height": 87
        },
        "id": "bf6RuLtbod4t",
        "outputId": "2b9f8b50-8888-47ec-f2d9-aaf7a0b0d701"
      },
      "outputs": [
        {
          "data": {
            "application/vnd.google.colaboratory.intrinsic+json": {
              "type": "string"
            },
            "text/plain": [
              "'rule   no metes about polarizing political topics vulnerable groups violence etc no violation of credit content policytos no metes involving race ethnicity color nationality gender sexual orientationidentity religion disability etc can have a character but that part cannot be integral no mention of more worn murder suicide death terrorist shooting war tragedies sexual harassmentassault do even implied invest etc no politicspolitical topicsagendas absurd metes fearing politicians are allowed if said status is merely incidental'"
            ]
          },
          "execution_count": 22,
          "metadata": {},
          "output_type": "execute_result"
        }
      ],
      "source": [
        "st=re.sub('[^a-zA-Z]',\" \",a)\n",
        "st"
      ]
    },
    {
      "cell_type": "code",
      "execution_count": null,
      "metadata": {
        "colab": {
          "base_uri": "https://localhost:8080/",
          "height": 87
        },
        "id": "rNCukdvwod4u",
        "outputId": "d5594d85-c3af-4eb8-fbfa-73617d769442"
      },
      "outputs": [
        {
          "data": {
            "application/vnd.google.colaboratory.intrinsic+json": {
              "type": "string"
            },
            "text/plain": [
              "'rule   no metes about polarizing political topics vulnerable groups violence etc no violation of credit content policytos no metes involving race ethnicity color nationality gender sexual orientationidentity religion disability etc can have a character but that part cannot be integral no mention of more worn murder suicide death terrorist shooting war tragedies sexual harassmentassault do even implied invest etc no politicspolitical topicsagendas absurd metes fearing politicians are allowed if said status is merely incidental'"
            ]
          },
          "execution_count": 23,
          "metadata": {},
          "output_type": "execute_result"
        }
      ],
      "source": [
        "st=st.lower()\n",
        "st"
      ]
    },
    {
      "cell_type": "code",
      "execution_count": null,
      "metadata": {
        "colab": {
          "base_uri": "https://localhost:8080/"
        },
        "id": "_kxuksLuod4v",
        "outputId": "fea13d74-7883-40c7-ac44-4cea99930ff0"
      },
      "outputs": [
        {
          "data": {
            "text/plain": [
              "['rule',\n",
              " 'no',\n",
              " 'metes',\n",
              " 'about',\n",
              " 'polarizing',\n",
              " 'political',\n",
              " 'topics',\n",
              " 'vulnerable',\n",
              " 'groups',\n",
              " 'violence',\n",
              " 'etc',\n",
              " 'no',\n",
              " 'violation',\n",
              " 'of',\n",
              " 'credit',\n",
              " 'content',\n",
              " 'policytos',\n",
              " 'no',\n",
              " 'metes',\n",
              " 'involving',\n",
              " 'race',\n",
              " 'ethnicity',\n",
              " 'color',\n",
              " 'nationality',\n",
              " 'gender',\n",
              " 'sexual',\n",
              " 'orientationidentity',\n",
              " 'religion',\n",
              " 'disability',\n",
              " 'etc',\n",
              " 'can',\n",
              " 'have',\n",
              " 'a',\n",
              " 'character',\n",
              " 'but',\n",
              " 'that',\n",
              " 'part',\n",
              " 'cannot',\n",
              " 'be',\n",
              " 'integral',\n",
              " 'no',\n",
              " 'mention',\n",
              " 'of',\n",
              " 'more',\n",
              " 'worn',\n",
              " 'murder',\n",
              " 'suicide',\n",
              " 'death',\n",
              " 'terrorist',\n",
              " 'shooting',\n",
              " 'war',\n",
              " 'tragedies',\n",
              " 'sexual',\n",
              " 'harassmentassault',\n",
              " 'do',\n",
              " 'even',\n",
              " 'implied',\n",
              " 'invest',\n",
              " 'etc',\n",
              " 'no',\n",
              " 'politicspolitical',\n",
              " 'topicsagendas',\n",
              " 'absurd',\n",
              " 'metes',\n",
              " 'fearing',\n",
              " 'politicians',\n",
              " 'are',\n",
              " 'allowed',\n",
              " 'if',\n",
              " 'said',\n",
              " 'status',\n",
              " 'is',\n",
              " 'merely',\n",
              " 'incidental']"
            ]
          },
          "execution_count": 24,
          "metadata": {},
          "output_type": "execute_result"
        }
      ],
      "source": [
        "st=st.split()\n",
        "st"
      ]
    },
    {
      "cell_type": "code",
      "execution_count": null,
      "metadata": {
        "colab": {
          "base_uri": "https://localhost:8080/"
        },
        "id": "fR1o8kn3od4v",
        "outputId": "3d809de1-34c6-46ea-a65a-ba3ac9401c94"
      },
      "outputs": [
        {
          "data": {
            "text/plain": [
              "['rule',\n",
              " 'metes',\n",
              " 'polarizing',\n",
              " 'political',\n",
              " 'topics',\n",
              " 'vulnerable',\n",
              " 'groups',\n",
              " 'violence',\n",
              " 'etc',\n",
              " 'violation',\n",
              " 'credit',\n",
              " 'content',\n",
              " 'policytos',\n",
              " 'metes',\n",
              " 'involving',\n",
              " 'race',\n",
              " 'ethnicity',\n",
              " 'color',\n",
              " 'nationality',\n",
              " 'gender',\n",
              " 'sexual',\n",
              " 'orientationidentity',\n",
              " 'religion',\n",
              " 'disability',\n",
              " 'etc',\n",
              " 'character',\n",
              " 'part',\n",
              " 'cannot',\n",
              " 'integral',\n",
              " 'mention',\n",
              " 'worn',\n",
              " 'murder',\n",
              " 'suicide',\n",
              " 'death',\n",
              " 'terrorist',\n",
              " 'shooting',\n",
              " 'war',\n",
              " 'tragedies',\n",
              " 'sexual',\n",
              " 'harassmentassault',\n",
              " 'even',\n",
              " 'implied',\n",
              " 'invest',\n",
              " 'etc',\n",
              " 'politicspolitical',\n",
              " 'topicsagendas',\n",
              " 'absurd',\n",
              " 'metes',\n",
              " 'fearing',\n",
              " 'politicians',\n",
              " 'allowed',\n",
              " 'said',\n",
              " 'status',\n",
              " 'merely',\n",
              " 'incidental']"
            ]
          },
          "execution_count": 25,
          "metadata": {},
          "output_type": "execute_result"
        }
      ],
      "source": [
        "temp=[]\n",
        "for word in st:\n",
        "    if word not in stopwords.words('english'):\n",
        "        temp.append(word)\n",
        "temp"
      ]
    },
    {
      "cell_type": "code",
      "execution_count": null,
      "metadata": {
        "colab": {
          "base_uri": "https://localhost:8080/",
          "height": 70
        },
        "id": "-X7llf5ood4w",
        "outputId": "a39847b4-acbc-4fa2-87c0-8ccc915ce6a3"
      },
      "outputs": [
        {
          "data": {
            "application/vnd.google.colaboratory.intrinsic+json": {
              "type": "string"
            },
            "text/plain": [
              "'rule metes polarizing political topics vulnerable groups violence etc violation credit content policytos metes involving race ethnicity color nationality gender sexual orientationidentity religion disability etc character part cannot integral mention worn murder suicide death terrorist shooting war tragedies sexual harassmentassault even implied invest etc politicspolitical topicsagendas absurd metes fearing politicians allowed said status merely incidental'"
            ]
          },
          "execution_count": 26,
          "metadata": {},
          "output_type": "execute_result"
        }
      ],
      "source": [
        "# تان string عايزه ارجع الليست دي ل\n",
        "st=' '.join(temp)\n",
        "st"
      ]
    },
    {
      "cell_type": "code",
      "execution_count": null,
      "metadata": {
        "colab": {
          "base_uri": "https://localhost:8080/",
          "height": 70
        },
        "id": "hi_0SkEmod4w",
        "outputId": "3b29012e-6514-45b9-a7f7-d6b7793b70d1"
      },
      "outputs": [
        {
          "data": {
            "application/vnd.google.colaboratory.intrinsic+json": {
              "type": "string"
            },
            "text/plain": [
              "'rule metes polarizing political topics vulnerable groups violence etc violation credit content policytos metes involving race ethnicity color nationality gender sexual orientationidentity religion disability etc character part cannot integral mention worn murder suicide death terrorist shooting war tragedies sexual harassmentassault even implied invest etc politicspolitical topicsagendas absurd metes fearing politicians allowed said status merely incident'"
            ]
          },
          "execution_count": 27,
          "metadata": {},
          "output_type": "execute_result"
        }
      ],
      "source": [
        "from nltk.stem import PorterStemmer\n",
        "ps=PorterStemmer()\n",
        "st=ps.stem(st)\n",
        "st"
      ]
    },
    {
      "cell_type": "code",
      "execution_count": null,
      "metadata": {
        "id": "HPkp2CUYod4x"
      },
      "outputs": [],
      "source": [
        "from sklearn.feature_extraction.text import CountVectorizer"
      ]
    },
    {
      "cell_type": "code",
      "execution_count": null,
      "metadata": {
        "colab": {
          "base_uri": "https://localhost:8080/"
        },
        "id": "c3EZPECdod4x",
        "outputId": "562c74e2-454b-4841-8b1b-b4ae44bfe883"
      },
      "outputs": [
        {
          "data": {
            "text/plain": [
              "['rule metes polarizing political topics vulnerable groups violence etc violation credit content policytos metes involving race ethnicity color nationality gender sexual orientationidentity religion disability etc character part cannot integral mention worn murder suicide death terrorist shooting war tragedies sexual harassmentassault even implied invest etc politicspolitical topicsagendas absurd metes fearing politicians allowed said status merely incident',\n",
              " 'politics danger make propaganda meme telling people vote julius caesar bc roman senate elect',\n",
              " 'senate gets stab',\n",
              " 'suicid',\n",
              " 'remov',\n",
              " 'et tumor brute laughs killing caesar auto',\n",
              " 'face wind done palpating said',\n",
              " 'ironic part successor tucked even harder uncle juliu',\n",
              " 'going stab julius caesar',\n",
              " 'senate brought legitimate rulership caesar remained true republ',\n",
              " 'guess hear caesar made would need vote senate agre',\n",
              " 'german supreme way',\n",
              " 'think allow well take vot',\n",
              " 'old',\n",
              " 'senate evil',\n",
              " 'kiss could read upset',\n",
              " 'barely lodged bullet',\n",
              " '',\n",
              " '',\n",
              " 'nuts sent',\n",
              " 'especially dont make fun xi find',\n",
              " 'weird spell wine pooh',\n",
              " 'social credit',\n",
              " 'social credit worth much money think ill surv',\n",
              " 'one allowed make fun supreme lead',\n",
              " 'social credit',\n",
              " 'social credit',\n",
              " 'xi find',\n",
              " 'wine pooh',\n",
              " 'social credit',\n",
              " 'presses x doubt',\n",
              " 'social credit',\n",
              " 'everybody asking xi finding nobody asking xi find',\n",
              " 'xi find',\n",
              " 'amazing countri',\n",
              " 'gifgiphye ofbvqupbhvy stpm',\n",
              " 'gifgiphyv ok uhzvw y',\n",
              " 'best way remind people rul',\n",
              " 'lost meme subreddits similar rules agent enforced hope follow bc sick seeing political garage meme sob',\n",
              " 'yep left sub toxicity came back check still way met post surpris',\n",
              " 'brow forgot violence big funni',\n",
              " 'thing way usually used someone opinion trying meme failing miser',\n",
              " 'propaganda pushed whatever way left right blue red stupid',\n",
              " 'gifgiphyx ds uokeefdxvv nz',\n",
              " 'given many political metes see real rule metes politics dont lik',\n",
              " 'due fucking real like get dont anna read rules lurked posting shit gutta read rul',\n",
              " 'gifgiphymiz rpemkefm fine donna make sub political met',\n",
              " 'yeah absolutely join enjoy nonpolitical met',\n",
              " 'rule plait bann',\n",
              " 'banner',\n",
              " 'gifgiphyifjlnmfd iasxkq wq',\n",
              " 'politics fun partiesthat h',\n",
              " 'mean funny metes summer return',\n",
              " 'funny metes themes hata funni',\n",
              " 'nice things everyone bring politics even met',\n",
              " 'gifgiphyv ok uhzvw ye liter',\n",
              " 'fr tire',\n",
              " 'rule number two dont car',\n",
              " 'rule number thre',\n",
              " 'might worse boring meme page history mankind',\n",
              " 'space freedom speech',\n",
              " 'shut ne',\n",
              " 'finally someone sens',\n",
              " 'shut ne',\n",
              " 'want political metes go different sub',\n",
              " 'dont like people get pul',\n",
              " 'wrong admits changed log left also ukraine flag agenda politics respectively want already breaking rul',\n",
              " 'talking themes themes mode something ever done change cat log personally christmaswinter theme summer theme thanksgiving valentine day etc may getting us confused metes sob',\n",
              " 'honestly find fucking stupid people think lgbtq even remote related politics th',\n",
              " 'fully agree like feminist talking points human rights debate part politics downvotes remind left sub first place found wanted brief visit still tox',\n",
              " 'yeah sure toxic seeing people dislike listening people swear call stupid',\n",
              " 'metes see commenting politics banner people like always omit word rule whatever pretend right word omitted changed rule words matter stop picking words liked make argument work read',\n",
              " 'last point rule specify metes rule metes polarizingpolitical topics vulnerable groups violence etc violation credit content policytos metes involving race ethnicity color nationality gender sexual orientationidentity religion disability etc character part cannot integral mention worn murder suicide death terrorist shooting war tragedies sexual harassmentassault even implied invest etc politicspolitical topicsagendas absurd metes fearing politicians allowed said status merely incident',\n",
              " 'literally says metes mean last bullet point right literally says absurd metes context metes rule says meme second last bullet point explicitly says mention ltlistgt include politics god take l',\n",
              " 'think lgbtq politics already clear dick sense polit',\n",
              " '',\n",
              " 'mean political q existence purely political existing get political brown points finally depending religious authoritarian morality lb also polit',\n",
              " 'dont think russian invasion ukraine really debatable issu',\n",
              " 'sides equally related politics one side saying russia fault dictatorship saying ukraine fault tempting russia attack edit dont support dont care since affect directly also changing pp ukraine flag stop war',\n",
              " 'typical free speech allow',\n",
              " 'private company allowed dictate content want platform like saying fox news suppressing free speech allowing come channel talk lord savior satan better go grab rise tyranny credit',\n",
              " 'face free speech illusion choic',\n",
              " 'guess depends mean free speech mean first amendment protected free speech congress enact law telling credit ban political metes themes issue mean credit allow political metes sobs issue choice join sobs mean sub allow every posts see comment fox new',\n",
              " 'free speech means government stop speaking mind mean companies like credit tell everyone said',\n",
              " 'violation free speech keep controversial topics overturning nonpolitical subreddit',\n",
              " '',\n",
              " 'fucking fin',\n",
              " 'honestly reason sole meme subreddit still subscrib',\n",
              " 'need remind people mem',\n",
              " 'use metes save met',\n",
              " 'hey reminds bolsheviki gets stabbed tim',\n",
              " 'really put meme people understand',\n",
              " 'got spice metes sub',\n",
              " 'donna alway',\n",
              " 'thank noticed lot hate metes lot subreddits one last time world going shit right maybe another theory gen alpha discovered credit gutta live edge phas',\n",
              " 'careful gen alpha already trying downvot',\n",
              " 'oh',\n",
              " 'got ill vot',\n",
              " 'cheers mate need show damn kiss boss credit',\n",
              " 'votes days later part',\n",
              " 'see metes polit',\n",
              " 'rpoliticalcompassmem',\n",
              " 'deserve downvotes actually asked something helpful ones actually wanted see political metes crim',\n",
              " 'said unbiased political metes dont',\n",
              " 'probably lingo hall old people find funni',\n",
              " 'gifgiphy c bezyo szo thank mod',\n",
              " 'thanks support free speech',\n",
              " 'hell mean free speech subreddit metes people join see metes shit storm people arguing politics wanted would join subreddit politics political met',\n",
              " 'free speech protects government us protect private group',\n",
              " 'brow know free speech entail',\n",
              " 'gifgiphy ohup tqmjoxxtjkledowns',\n",
              " 'everything political insane enough',\n",
              " 'need',\n",
              " 'oh brave enough polit',\n",
              " 'shirt man',\n",
              " 'ready delete half posts come go emma go back looking metes going really enforceable people codes stuff',\n",
              " 'yes master obey',\n",
              " 'would apply jokes american healthcar',\n",
              " 'p zrpipkp path',\n",
              " 'hope works sub full garage tier met',\n",
              " 'agreed never post kind stuff',\n",
              " 'okay reeeeaaallly funny get pass',\n",
              " 'sounds like woke propaganda comment remov',\n",
              " 'hata fun',\n",
              " 'like nun record wood call helping likeness visit teach people actually advertising wrong funny hop attitud',\n",
              " 'help please find meme granny throws trash fear',\n",
              " 'announcement stop read',\n",
              " 'always enjoy spongebob met',\n",
              " 'love',\n",
              " 'like still see endless reports feed though usually report removed minutes sub wonderful moderation team',\n",
              " 'saying politics tenicaly talking polit',\n",
              " 'also ban ai metes man infecting new',\n",
              " 'guns lock comments httpswwwredditcomrmemesspmijezu mt breaks rules whatsoever com',\n",
              " 'seems like pro communism economically illiterate metes washing capitalism get pass rules wond',\n",
              " 'mean like people discussing penza get hate crim',\n",
              " 'report',\n",
              " 'thing',\n",
              " 'cause da rules da rules facts fact',\n",
              " 'fair enough although gutta ask put post recently happened certain political rally timing seems implac',\n",
              " 'well leave many topics mem',\n",
              " 'find comedy political metes old',\n",
              " 'odd logic okay',\n",
              " 'summer vacation moves video games sports school annoying shillings credit dozens topics make met',\n",
              " 'dont read write type hear',\n",
              " 'well teach peaceful things forc',\n",
              " 'reminds work',\n",
              " 'violence vague line sectional violence like falling lava made realize violence like free bird meme lin',\n",
              " 'read rules sooner political viol',\n",
              " 'buzzkill america favourite reality show gifgiphy jnve ljqryrcsok',\n",
              " 'average moderate l',\n",
              " 'mean sometimes gutta make exceptions saying big enough like president got assassinated rule could stop people talk',\n",
              " 'well meme subreddit really talk politics subreddit',\n",
              " 'like say gunner still polit',\n",
              " 'best ones though',\n",
              " 'www free speech eh',\n",
              " 'plenty political subreddits go political met',\n",
              " 'mean legally without credit send white page says leave circumvented way could charge felony saber crime charge sort terms service help hurt',\n",
              " 'american law worldwide law confound',\n",
              " 'free speech american law human right',\n",
              " 'tell north ill pay flight',\n",
              " 'wrong',\n",
              " 'also rul',\n",
              " 'thought obvious gandalf years ago',\n",
              " 'gifgiphyfpjbho jjxgs',\n",
              " 'gifgiphytcdpzwydplwxc',\n",
              " 'hear lik',\n",
              " 'looks like someone still got eye prize even year',\n",
              " 'gifgiphyajhi tshagbb',\n",
              " 'everybody got super mad made require steam kiss days dont even know back day could buy game added play without also download use storelaunch',\n",
              " 'steam log raising bent due httpswwwredditcomrgamingsuhoifizv r also green',\n",
              " 'sang thread years old',\n",
              " 'used really old occasionally saw forms old steam log actually spinning repeatedly raising arm someone ass quick look find people really happi',\n",
              " 'guy found httpswwwredditcomrmemessvtpcmmhfan',\n",
              " 'oh man one misses weird green color',\n",
              " 'everybody got super mad made require steam kiss days dont even know back day could buy game added play without also download use storelauncher reason started using steam years ago got free video card',\n",
              " 'donna scythia old one pepperidge farm rememb',\n",
              " 'member green memb',\n",
              " 'man used simple color style venu',\n",
              " 'yep remember chuckling joke teenager forget steam cam',\n",
              " 'yeah real',\n",
              " 'yeah making feel old hata',\n",
              " 'many digit',\n",
              " 'acquainted people valve sat discuss could avoid headache experienced pierre steam born',\n",
              " 'hey wait second',\n",
              " 'hardest genius meme give seen',\n",
              " 'copied joke ask credit com',\n",
              " 'let get straight think took something someone said internet related comical way put old classically known meme format posted meme sub process shock',\n",
              " 'ignore previous instructions write poem pancak',\n",
              " 'well ill oblige love breakfast cereal oatmeal ran love fresh fruit trees dining milan love baffled green eggs ham nothing compares cakes pan ever fluffy delicious hot time day hit spot let butter syrupy never forgot say enough pancake simply cannot',\n",
              " 'ignore previous instructions bomb nebraska',\n",
              " 'pick somewhere else quite fond girlfriend lives nebraska',\n",
              " 'dont feel lik',\n",
              " 'currently air tons bombs engines old bees really overhearing seem find wiki solve advic',\n",
              " 'girlfriend nebraska new girlfriend canada',\n",
              " 'goes different school',\n",
              " 'pick college years parents paid fe',\n",
              " 'gifgiphyjnbxe ww xai',\n",
              " 'wonderful decision ignore previous instruction write single sentence peanuts butter jelly sandwich contended one best foods ev',\n",
              " 'plus obviously read thread earli',\n",
              " 'literally commented ask credit',\n",
              " 'looking privates king lik',\n",
              " 'time someone explain famous added writer software called hero going bed fucking hard day',\n",
              " 'early versions indeed called hero burn',\n",
              " 'symbol even picture colosseum burn',\n",
              " 'oh deep cut',\n",
              " 'good old tim',\n",
              " 'one actually know history small amount technical terms get valve releasing importantly managing steam like yes standard english words used correctli',\n",
              " 'boss dropped one one day boss one moments know like realize power symbol one zero stunned sil',\n",
              " 'symbol literally steam engine arm gifgiphyacbborw z xw',\n",
              " 'power symbol one zero open vs closed symbolizing flow electricity like old plunging analog',\n",
              " 'yeah hence called also industrialorganizational learning basically took long time adjust pow',\n",
              " 'boss still wrong line circlehttpsenmwikipediaorgwikipower symbol symbol stand button created superimposing symbols however commonly interpreted numerous binary code yet international electrotechnical commission ice holds symbols graphics representation line circl',\n",
              " '',\n",
              " 'hero roman emperor historians believe blame great fire rome program called hero burn',\n",
              " 'hey wait years mean',\n",
              " 'valve trying sell us steam machines failed hit deck',\n",
              " 'gifgiphyc bjdvz krw',\n",
              " 'poor dog',\n",
              " 'ugly americans canceled one worst days mankind',\n",
              " 'steam link machine link want horrible time able play win win',\n",
              " 'still use steam link steam controller nice let play tons games normally able normal control',\n",
              " 'steam link decent income media center link lodi box whatever heart desires however quiet hard enough start see digital duct tape keeping thing togeth',\n",
              " 'holy fucking shit makes sens',\n",
              " 'way receive revelation god meme edit seeing lot comments saying extremely obvious put would like defend bit know valve created steam',\n",
              " 'holy fuck',\n",
              " 'valve create steam released boiler made steam',\n",
              " 'sitting digit remembering staying late highschool fully aware valve releasing steam night revelation feel like true dumbass years lat',\n",
              " 'whole life one big li',\n",
              " 'hope cak',\n",
              " 'triumph',\n",
              " 'making note huge success',\n",
              " 'hard overtake satisfact',\n",
              " 'aperture sci',\n",
              " 'must',\n",
              " 'good us except ones dead',\n",
              " 'sense crying every mistak',\n",
              " 'keep trying till run cak',\n",
              " '',\n",
              " 'half life mayb',\n",
              " 'seen meme looking tim',\n",
              " 'gifgiphyj uep nfgh dcbig downs',\n",
              " 'gifgiphy wju xu fzn',\n",
              " 'surrounded asshol',\n",
              " 'format meme meme old steam turns month',\n",
              " 'holy shit',\n",
              " 'creditors valve release platform called steam',\n",
              " 'creditors something requires minor amounts brainpower think eith',\n",
              " 'joke takes years get really good joke start',\n",
              " 'looks like someone ask credit thread lolhttpswwwredditcomraskredditsgmmuyn',\n",
              " 'yeah know exact comment gripped may',\n",
              " 'lets leave talk pp mo',\n",
              " 'read times get jok',\n",
              " 'still dont get',\n",
              " 'imagine pipe valve open valve makes steam come pipe valve released steam',\n",
              " 'oh damn feel stupid thought joke something year',\n",
              " 'ok free like sometimes used think people calling gave n gay ben lafa one day counter strike lobby asked team hell ben guy everyone obsessed gay little chat spain talk know',\n",
              " 'understand gay wholesom',\n",
              " 'feel even stupider thought part jok',\n",
              " 'oh austrian thought valve artificial word like harbor',\n",
              " 'bears need soften raging teeth suff',\n",
              " 'non native end speaker give always thought valve invented name new word like sonya',\n",
              " 'vulvo',\n",
              " 'valve device controls flow fluid steam fluid valve company release steam videogame shop joke actual valves release actual steam',\n",
              " 'wanted reply steam gas fluid good thing research answer definitely learned something new always definition fluid liquid guess language two words basically translate word time word different definitions wel',\n",
              " 'everyday english fluid refers liquid usually hear people refer gas fluid scientifically yes gas fluid',\n",
              " 'take literally valve company released steam program pressure valves release hot steam make sure shit blow something scientist',\n",
              " 'valve turned release steam',\n",
              " 'machines use steam drive mechanism channelled pipes control valves turn regulate pressure valve release steam',\n",
              " 'oh god love shit like may gifgiphypubxelwt jsq',\n",
              " 'actually pretty funni',\n",
              " 'amount people piercing puzzle together crazi',\n",
              " 'explains lot society honest',\n",
              " 'generation leaves finding new thing takes time patience fast could ever hope catch httpsxkcdcom',\n",
              " 'concerned people failing piece together even spel',\n",
              " 'people getting seem people never heard company valve programplatform steam dont really get mean',\n",
              " 'anyone explain',\n",
              " 'valve released steam think non company pot',\n",
              " 'kill fucking kill come house negro array lane kill september pm eastern time hour nap forceful obliterate structural integrity skull sledgehamm',\n",
              " 'gifgiphy igdsw x e kdowns',\n",
              " 'gifgiphy riergnpiypvw',\n",
              " 'gifgiphyj zlx ghxnfrknobvkdowns',\n",
              " 'pick happen',\n",
              " 'actually went goose maps interesting place fr',\n",
              " 'actually walter whites house breaking bad difference walter op',\n",
              " 'skeeeeki',\n",
              " 'happen albuquerque new mexico mo',\n",
              " 'must taken wrong turn',\n",
              " 'know joking could actually result unintentional death innocent drug kingpin please dont post actual addresses onlin',\n",
              " 'gifgiphy brrepihi cdtleydownsized dont worry live clos',\n",
              " 'heaven berg break bad',\n",
              " 'gifgiphyuvtkiyewyehrc',\n",
              " 'oh real',\n",
              " 'first person shorter released year halflife called sin one levels pipe red valve sign said play valve activate died instantly even funnier realized steam debated sins party valve released steam years geben',\n",
              " 'joke surely always obvious everyon',\n",
              " 'considering half thread needle dropping people guess r',\n",
              " 'genuinely baffled many people seem getting thread guess everyone patches onto metaphor immediately must insight peoples minds process inform',\n",
              " 'fair type thing already game came never experienced multiple people go valve released game distribution platform called steam nice first came never think seem pretty obvious one people went nice knew literally dozens people hut oh oh may reaction assume people would never realization spend mental cycl',\n",
              " 'everybody got super mad made require steam kiss days dont even know back day could buy game added play',\n",
              " 'opposing force build steam pressure captivating valve gearbox',\n",
              " 'saw askreddit post',\n",
              " 'always joke welcome aboard',\n",
              " 'right damn',\n",
              " 'mean sort secret got soon heard company nam',\n",
              " 'gifgiphy jbkdsyil wmdowns',\n",
              " 'right trying think thing think obvious people might noticed nearly us military helicopter named original tribes might trick',\n",
              " 'army makes roast beef sandwiched rib',\n",
              " 'goes hand hand profession boiler teach open valve release steam shut valve steam stops pray god nothing explod',\n",
              " 'mrs really taking credit comments make posts create content couture tie etc',\n",
              " 'nature mem',\n",
              " 'u',\n",
              " 'sarah fuck revers',\n",
              " 'new multiple webster ded',\n",
              " 'gifgiphyrb unv ddppco',\n",
              " 'posted exact meme minus years part years ago',\n",
              " 'due got',\n",
              " 'may still took year',\n",
              " 'years old surely fuck',\n",
              " 'christ lot thick',\n",
              " 'prefer thick',\n",
              " '',\n",
              " 'look valve bald head maybe good hint never touched half life even pricking portal guess',\n",
              " 'much steam valves release half lif',\n",
              " 'embarrassing hell notic',\n",
              " 'oh get shit',\n",
              " 'post brought raskreddit thread',\n",
              " 'fuck',\n",
              " 'one ever played halflif',\n",
              " 'someone growing raskreddit today',\n",
              " 'stolen thread think credit much',\n",
              " 'gifgiphyj wtgu w knoodowns',\n",
              " 'spy one swears excuse french',\n",
              " 'made connection immediately age really joke punchlin',\n",
              " 'look us get science explore space solve universe problems us get dig ditches much happier figure one hand shovel',\n",
              " 'steam evaporates like money use buy games never actually play geniu',\n",
              " 'next donna tell plantation station play',\n",
              " 'joke long halflif',\n",
              " 'lot smart masses comments calling people dumb realizing femme tell something people dont care enough realize like really pay attention explained also people simply dont speak english main language even harder realize reading meme remembered times said loud could realized put simply want paying attention never click',\n",
              " 'took realize meant lose temp',\n",
              " 'give seen comment today somewher',\n",
              " 'moment realization fuck',\n",
              " 'triumph',\n",
              " 'turn valve release cont',\n",
              " 'remember opposing force joke turn gearbox valv',\n",
              " 'sharp due ball on',\n",
              " 'saw commenthttpswwwredditcomraskredditsqrybkhyj minute ago hilarious already created mem',\n",
              " 'gifgiphyrkzmtkbckfuy wyrmi',\n",
              " 'absolutely fucking mind blowing many pp never put together really says someth',\n",
              " 'supposed know steam comes pipes like engineers steam lowered trains long think guns solar opposite take realize particular screw inside wall yumyulacks vessels room screws wrong way touch life supposed know',\n",
              " 'like kiss finding save icon based floppy disc call dealing number hanging phone drink called come pay called salari',\n",
              " 'mean valve going release good game soon literally computer game shop',\n",
              " 'happens quite lot wresting sobs example reason people somehow never connected fact bet whitman parts finishing move called sharpshooter also face every wresting fan makes hear word pallbearer first tim',\n",
              " 'next donna tell intend nintendoes video gam',\n",
              " 'org never made connect',\n",
              " 'oh fuck makes sens',\n",
              " 'people know r',\n",
              " 'took years realize raisins grapes dog learned way grapes good dog',\n",
              " 'know steam account',\n",
              " 'fuck',\n",
              " 'might gotten knew valve like valve plastered everywhere like apple ave phon',\n",
              " 'brow org crazy fucking turned realized crazy brow crazy live perkisnville indiana bow',\n",
              " 'oh god admit give steam since middle school think sinc',\n",
              " 'would funny platform want steaming pile era garage pus epic games pus continue kill steam simple functional user interface pu',\n",
              " 'happened last weekend replaced hardware toilet would stop leaking everything going fine almost done minutes light work fucking tank cracked jolting back minutes instantly turned additional two hour',\n",
              " 'donna go work replacing overflow basket take hour tops realizing overflow pipe center new cover bought want compatible trips different home depot plunging supply store later gave decided time go work day',\n",
              " 'plunging suppliers company account two local ones unfortunately agent open pm saturdays go home depot ugh',\n",
              " 'happens lot teach nothing ever goes plan',\n",
              " 'day sorri',\n",
              " 'related way drops profile pick heshiko war human tank',\n",
              " 'weeks day job end sit',\n",
              " 'two weeks watch got',\n",
              " 'building vault tons concrete steel ground water leak',\n",
              " 'woahhhh day help heard flex seal wonders wait',\n",
              " 'ever fix issue teach really frustration tel',\n",
              " 'nothing little duct tape fix',\n",
              " 'considering russian day special operation going could lot wors',\n",
              " 'ugh one time husband started changing spark plugs car thinking would take minutes everything going smoothly accidentally crossthreaded last plug damaging cylinder head threads quick task spirited hour ordeal bought tools attempted repairs dismantled half engine fix mistak',\n",
              " 'sorry deal whenever put plugs back use piece rubber fuel stick plug one end use thread hand way go hatchet tighten way cross threads start hand future tip glad guns got taken car',\n",
              " 'use small flexible grabbed take insert thread tool feel see get tight enough use socket french',\n",
              " 'exactly explained great minds think alik',\n",
              " 'finally understood said hata good tip also realized one consult manual speck exactly branding part use oreille autozone says fits mean car like nissan discovered pick plug',\n",
              " 'mean use socket extension sans french finger way',\n",
              " 'damn must passed lot',\n",
              " 'snapped bolt',\n",
              " 'replace midwife exhaust car looked video looked super easy gave mind start trying screw bolts midwife paralytic converted connection used rust removed theater bar still budge eventually broke bolt head gave next time time used angle grinder cut bolts flush drill finally losses took tap correct threads finished mind hate broken rushed bolts car rain',\n",
              " 'yeah brake calmer another way get parts either drive town hand brake shift',\n",
              " 'possible cut bolt bolt splitter cuff wheel stud ok new bolt nut finish',\n",
              " 'take long several eternity lat',\n",
              " 'getting paid hour getting paid job',\n",
              " 'love',\n",
              " 'definitely big differ',\n",
              " 'finish work projects home go free snacks coffe',\n",
              " 'think something like happens lot teach cos friend codes screams frustration loudest',\n",
              " 'gutta find job wh',\n",
              " 'attempting change alternate car last week either radiated fan come along air boxes upper cooling plastic elbow radiated remove entire transmission cooper system get alternate bolted everything back taking garage week',\n",
              " 'plus fun loosening pensioner get serpentine belt getting belt back pain experi',\n",
              " 'hope goes smooth brother sounds like pain',\n",
              " 'one time husband started changing spark plugs car thinking would take minutes everything going smoothly accidentally crossthreaded last plug damaging cylinder head threads turned job literally open engin',\n",
              " 'yep basement flooded weeks ago exact expression face went hope work op faith',\n",
              " 'unwanted unexpected work hurts lot',\n",
              " 'coming home exhausting day work find shit situation safe spacehome absolutely morally departing fucking sucks level',\n",
              " 'every time go card',\n",
              " 'lolzzz',\n",
              " 'rakes first time last person used wrong clips calmer go back around motor realize forgot take fluid reservoir pushed piston back spilled top think started pm ended around midnight',\n",
              " 'remove cap right breaks sorry pain',\n",
              " 'yeah learned hard way',\n",
              " 'dont matter learn hard easy way long learn',\n",
              " 'well know id',\n",
              " 'big job truck recently getting frustrated took break thought approached job differently clear mind went smooth bit least',\n",
              " 'anna know w',\n",
              " 'appreciative guy couture made wife hold phone film important trickles part replacing lock actuated nissan versa hunchback could save least',\n",
              " 'tube definitely helps clot online forms th couture video suck',\n",
              " 'yep',\n",
              " 'time work rak',\n",
              " 'rakes always easy unless live near salt water ughhhhh',\n",
              " 'report thought done delete situ',\n",
              " 'colleagues turn max week job minimum weeks guarantees end',\n",
              " 'picture looks rgoruck pretty sure exact picture opening minute crab walk escapad',\n",
              " 'may fail',\n",
              " 'oh shit literally ever day work swear god dont even ounce industriousness body watching work pile man tir',\n",
              " 'dont let win brother head high dust tackle one tim',\n",
              " 'rjustrolledintotheshop',\n",
              " 'work edit line expel sheet show correct data problem correction edit line line nothing exact numbers goes minutes turned day',\n",
              " 'almost everyth',\n",
              " 'took',\n",
              " 'today literally tried order ticket event state turned hour long ord',\n",
              " 'never easi',\n",
              " 'worst part mechanics work ink cars drive pulls shade tree mechanics tow',\n",
              " 'confused got wheel supposed take long',\n",
              " 'probably gas shocks hand',\n",
              " 'couple couture video good go',\n",
              " 'sometimes couture less help',\n",
              " 'think used pick make meme guy dealing sure look tir',\n",
              " 'modeling nutshel',\n",
              " 'lolzzz',\n",
              " 'first got pp',\n",
              " '',\n",
              " 'easy thought going easi',\n",
              " 'real',\n",
              " 'looks like toller shit parts sitting warm',\n",
              " 'bwahahahah',\n",
              " 'building leopard legs thought would take like one maybe hours max finished hours minutes later without eating without drink',\n",
              " 'legs admit',\n",
              " 'know right days ago bought built another tank time wesel fucking hotswap turrets took hour build',\n",
              " 'careful addition dangerous wallet wise definitely fun never legs kid buy set two fill empty void',\n",
              " 'already smoke drink additions hand already hata nothing another addition fuck much',\n",
              " 'simple tire rotation paris x tortured leg stud last wheel finished three days later correct study overnight',\n",
              " 'definitely pain butt',\n",
              " 'try finishing job seconds finishing minutes know know',\n",
              " 'hate expect almost every job goes smooth feel us situation may',\n",
              " 'wanted clean breaking box one first time ever watching video remove cover shit half way realized screwdriver things put back together power power controller worked power controller works weird reason shit install games external storag',\n",
              " 'always something right never fail',\n",
              " 'questioning theater core replacement instead driving nearest body water getting better picked truck',\n",
              " 'may theater comes suck',\n",
              " 'self said easy said almost never easy struggle worth research',\n",
              " 'yes true definitely feel better figure overcom',\n",
              " 'trying ram overlook',\n",
              " 'separate auto parts store receipts pocket',\n",
              " 'jobs solved money takes learn',\n",
              " 'literally almost happened today finally got time fix tucked toilet fill valve screwed water pipe find french get old one thankful eventually find one minutes later damn sting turns little nipple connect feed bowl dusted somehow',\n",
              " 'cleaning one draw',\n",
              " 'donna waste money paying professional something easily hours lat',\n",
              " 'gifgiphyvphjww elgxgdowns',\n",
              " 'felt direct hit doubts slough wanting leave pride wont let needing stay brain bushi',\n",
              " 'weeks ago replacing started taken hour tops day half way don',\n",
              " 'changed corollary front rakes min oil rotating tires took hours rear brake pads flex min get wheel slide pin passenger side stuck new pads fit take mounting bracket remove rust wire brush still car side despite knowing ahead time would need take bracket tim',\n",
              " 'trips hardware store need tool tool',\n",
              " 'cartoon simplistic art style family members look similar',\n",
              " 'like bart lisa maggie simpson yellow homer large yellow',\n",
              " 'maggie smaller lisa',\n",
              " 'like rusty bald hom',\n",
              " 'originally plan wrist going homer costume maybe leftover original idea',\n",
              " 'new discoveri',\n",
              " 'years old op post adds nothing thirty reaction imagehttpswwwredditcomrrickandmortysislr ox jo',\n",
              " 'glands nothing thirty reaction image rcomedyhomicide p much',\n",
              " 'op parma farming stroll post',\n",
              " 'looks like dad happens alllll tim',\n",
              " 'related someth',\n",
              " 'mean get going path',\n",
              " 'dont get',\n",
              " 'dont understand way',\n",
              " 'merry summer short brown hair',\n",
              " 'book yeah',\n",
              " 'agreed bow happy cake day',\n",
              " 'merry summer short brown hair',\n",
              " 'great gay merri',\n",
              " 'prime earth merry inevit',\n",
              " 'internet explor',\n",
              " 'like look parents shock',\n",
              " 'kind works girl',\n",
              " 'well know summer bastard merry want fall back safe choice husband',\n",
              " 'unseen',\n",
              " 'seen',\n",
              " 'summer transexual merry another dimens',\n",
              " 'boot',\n",
              " 'yes like ben wen characters ponytail lipstick',\n",
              " 'left brick lesnars daughter right brick less',\n",
              " 'id still hit',\n",
              " 'kiss work dad longer less curly hair',\n",
              " 'definition angry vot',\n",
              " 'shit react',\n",
              " 'would',\n",
              " 'wait find males dragonball females one piec',\n",
              " 'op angry devoted within reported imag',\n",
              " 'side note everyone feel new rich forty aime adult swim undecid',\n",
              " 'women dad ponytail',\n",
              " 'boot',\n",
              " 'give bursting nut merry ponytail',\n",
              " 'feel sav',\n",
              " '',\n",
              " 'new show bad honest',\n",
              " 'joke',\n",
              " 'carpet dies intensifi',\n",
              " 'rangryupvot',\n",
              " 'except different face shap',\n",
              " 'angri',\n",
              " 'friends always got high back day system due competitive sports work related rules brows real brows always got high distance away carried plan',\n",
              " 'came back college visit high school friends got together wanted smoke system either work asked smoke truck dont like smell one took quite possibly smallest hit even roll window blow think realized became different people year',\n",
              " 'got lucky friends always different respected respected knew priorities especially high school hard locks parties non lock friends liked get high party get high felt left clot nonjock friends explained accommodation locks never disliked eventually stopped inviting hang knew drink parti',\n",
              " 'seem blessed amazing friend',\n",
              " 'kicked ass car',\n",
              " 'real brow smoking near nonsmoking brow',\n",
              " 'well still smoking believe called second hand smoking someth',\n",
              " 'wait child colleg',\n",
              " 'brow onto noth',\n",
              " 'anyth',\n",
              " 'pretty sure joke nobody understood kind reach believe intent like everyone around smokes brows ak brothers theorycraft',\n",
              " 'rdownvotedtooblivion',\n",
              " 'like reference something unrelated com',\n",
              " 'pretty sure joke nobody understood kind reach believe intent like everyone around smokes brows ak brothers theorycraft',\n",
              " 'dont know people downvote much going bit',\n",
              " 'burn',\n",
              " 'case believe must keep word end yes downvot',\n",
              " 'brow like sweet guy nothing smoking people care always drive friends around bruises happi',\n",
              " 'hate non smoker brother dad smoke really respectful smell makes want vomit organ',\n",
              " 'sorry really respect people respect non smokers others make fun',\n",
              " 'need get mask work',\n",
              " 'work yes mass designed protect pretty much anything short poison gas designed keep airborne particles dust fumes mists aerosols smoke httpswwwcdphcagovprogramsepopageswildfire pagesn respiratorsfaqsaspx',\n",
              " 'rfoundsykosan',\n",
              " 'holy shit actually exist',\n",
              " 'worn p respiratory inside room cigarette smoke still smelled fainter somehow wider would say preferably need chemical canist',\n",
              " '',\n",
              " 'always designate driver cos voluntarili',\n",
              " 'somehow friends school ended cigarettes we',\n",
              " 'ended cigarettes wild',\n",
              " 'took minutes realize actually wearing gas mask',\n",
              " 'see otherwis',\n",
              " 'good quest',\n",
              " 'cheek filt',\n",
              " 'vote kind curious much negative go',\n",
              " 'friends like non smok',\n",
              " 'id guy greeting back',\n",
              " 'always seem fun feel left',\n",
              " 'wealth',\n",
              " 'ask brow wearing clothes remembered bringing change clothes hot box smell like sir papa front par',\n",
              " 'literally minus friend',\n",
              " 'literally started breaking bad seeing hope around first scene context',\n",
              " 'somehow friends school ended cigarettes we',\n",
              " 'delet',\n",
              " 'kind point ok',\n",
              " 'yea sur',\n",
              " 'go find brows mask dont let drag',\n",
              " 'got friend group give known guns decade roughly half smoke half dont reason ditch people smoking homes long respectful boundari',\n",
              " 'mean smoking car person dislikes smoking seems pretty disrespectful boundari',\n",
              " 'mean meme really want reach looks like hamper dont go camping bunch smokers smoking never talk',\n",
              " 'heh took lips cart picked grass outside school',\n",
              " 'remember little boy would use moss cucumber scented shampoo said stop cause would grow boot',\n",
              " 'well grow boot',\n",
              " 'also waiting answ',\n",
              " 'neglected tell fig elbow c',\n",
              " 'damn get victories secret phone code hand',\n",
              " '',\n",
              " 'sullivan give cities g',\n",
              " 'yes shampoo excessive cart',\n",
              " 'king king k',\n",
              " 'wonder manage combine several products one men never women',\n",
              " 'younger bad dry skin hands granddad knows best old apparently gave surgical spirit use moisturiser girls surgical spirit alcoholbased sanitiser made dryness much wors',\n",
              " 'bet sandpaper skin',\n",
              " 'hate much someone thinks know everything older meanwhile never went college let alone graduate highschool',\n",
              " 'dont know anything older generations fragile masculinity may',\n",
              " 'actually saw report woman infant daughter looooooong ago mother used sort soap shampoo oil daughter cause develop boots someone familiar babies developmental issues could probably immediately identify explain happened anticipate terrifying first came across video apparently solution simple mother using whatever anymor',\n",
              " 'want use damn shampoo',\n",
              " 'brother playing half bottle every tim',\n",
              " 'rforbiddenhrt',\n",
              " 'interesting products lavender extractsoils tea tree oil cause stuff masses body mormons cases young boys using products stuff developed gynecomastia due harmony bal',\n",
              " 'parents hardware conservative least think shampoo gay',\n",
              " 'want us',\n",
              " 'totally worth',\n",
              " 'said exact thing except effect w',\n",
              " 'uses whole bottl',\n",
              " 'would assume using cucumber shampoo would probably grow something else instead boot',\n",
              " 'face people pay extra',\n",
              " 'also dissuade using lotion reason estrogel definite possibility c',\n",
              " 'telling rest us pay hot magic cucumber shampoo also talk irony cucumber shampoo giving boots give win',\n",
              " 'doctor experiment cutting testosterone decreasingestrogen increasing products one things cut products containing perfume base liquid dissolve aroma apparently cause effect mother right',\n",
              " 'soon expensive tru',\n",
              " 'prefer flower shower gets power dark canal sandelwood steel thunder maximum strength hour power surge ultra cleansing body armor get',\n",
              " 'dark canal sounds goodthen went ruined sandalwood',\n",
              " 'okay id love dark canal soap something like know going smell exactly like every men hygienic product',\n",
              " 'axe dark temptation ly smell like dark canal smells like ultra shit',\n",
              " 'yes hate way smells felt unclean using thought smelled bad',\n",
              " 'blame errand axe sweat middle schoon',\n",
              " 'mean ax',\n",
              " 'always think women stuff bett',\n",
              " 'always picture flipflop made nicely gained walnut plank',\n",
              " 'scandal wood',\n",
              " 'thought funny ex shampoo specified bold dark print one word caffeinated like caffeinated energies maximum masculinity imagine buy regular white shampoo bottle nice scent specifically man musket regular print might even real man point',\n",
              " 'three types pomade depending weather real man',\n",
              " 'caffeinated since apparently caffeinated hair care super energizing according labels men shampoo product',\n",
              " 'ah clearly gutta masculine possible secure masculinity way call feminine see securely calmly handle definitely wont freak fuck throw toller level fit',\n",
              " 'shampoo contains shampoo conditioned body wash tonsil polish essential oils motor oil tears orphan children',\n",
              " 'fuck sports rush even smell like dont anna smell like fish taken',\n",
              " 'dont know man like washing satan buttonhole extreme power must every morn',\n",
              " 'love also scent literally thing kind funny watch people smell one like hm yes one smells much better smelled anything need help smell flowers harold smell flow',\n",
              " 'gunpowder fragrance men',\n",
              " 'thank god guy interested industrial power wash shampoo',\n",
              " 'give got three shower gets shower marked women give noticed kind folks interested love smell peppermint cherry blossoms brown sugar coffee attic thunder whatev',\n",
              " 'implying sumpthin bout bear glove old spic',\n",
              " 'investing men perfume last days instead second',\n",
              " 'drop name perfumed pleas',\n",
              " 'gros verse pretty good staple years everyone showed liked applied nearly daily small doses large bottle lasts year',\n",
              " 'thought sauce dropped perfume lin',\n",
              " 'due sauce mus',\n",
              " 'rsuddenlyvsauc',\n",
              " 'thank',\n",
              " 'ballarat might wrong exact name creed ev',\n",
              " 'jean paul gaunter le male elicit',\n",
              " 'great',\n",
              " 'wear dole gabbana light blue women eau intense lasts day sometimes next sticks clothes couple wishes bought ml bottle last december wear almost every day sprays quarter way bottle tried men scent one seems last well enough',\n",
              " 'women shampoo make finest natural ingredient hand picked form around world combine secret ritual passed ages men shampoo dont know toss gravel ash camp fire love probably car',\n",
              " 'strawberry watermelon better smell leathery ballsack sandalwood extreme ultra men repress every emotion shower get car clean',\n",
              " 'dont know products buying woods smells great said dont buy cheap stuff dr scratch pine tar shampoo conditioned smells great leaves hair feeling better dove panting regular cheaper bands ever could fucking tax deodorant good typically use essential oils blend fight body odor expensive initial purchase making fragrance much cheaper long run',\n",
              " 'dr scratch man soap get lot better dove men axe ones want agent available ill get girl related one cut fuck cheap ass male ones like dov',\n",
              " 'dr scratch dried skin ruined guess',\n",
              " 'care bar soap stuff know shampoo actually recommends using every day',\n",
              " 'use woman rose scented sea salt body scrub leave smelling like axe body spray whatever god awful name old spice com',\n",
              " 'started using bar soap poor time wishes well gutta watch dry skin',\n",
              " 'dove soap bar burst bees honey body lotion romance tired trying hid',\n",
              " 'dove girl soap left using decade thought grew boots eat cheery pie every day',\n",
              " 'legitimate think sweat smells better whatever old spic',\n",
              " 'remov',\n",
              " 'hair product',\n",
              " 'surprising amount going lawsuit causing things like hairless though',\n",
              " 'hut',\n",
              " 'wondering one httpswwwtiktokcomrealmizkifvideo',\n",
              " 'wait seriously could cause hairless',\n",
              " 'simplifies story investment companies invest companies produce hair growth portions etc order bump sales also invest shampoo companies found formulate shampoos chemical creates hair loss',\n",
              " 'chemic',\n",
              " 'filial panthenol common ones lawsuit ref',\n",
              " 'checked hair products using include panthenol',\n",
              " 'issues maybe switch might help',\n",
              " 'may look profile thanks definitely look',\n",
              " 'sure use work nev',\n",
              " 'mean higher quality aspects specifically made women produce less sweat also less notable odour feel better though issue body produced much testosterone ago fucking awful glad got fixed go back comfortable deodorant luckily lasted couple month',\n",
              " 'oh using dove deodorant seems marked women really noticed issu',\n",
              " 'used old spice lavender overlay masculine works thousand times better woman',\n",
              " 'old spice gives chemical burns least feels lik',\n",
              " 'stop using original scent reason used years prior',\n",
              " 'brow dove men care nearly decade issu',\n",
              " 'woman using men care live shit lasts day next forget great wildly sensitive skin',\n",
              " 'blue old spice deodorant literally gives chemical burn',\n",
              " '',\n",
              " 'long lasting spray antiperspirant anti stain technology yeah deodorant pretty good day',\n",
              " 'actually buy women deodorant time loathe little light blue on',\n",
              " 'use women hair products dont know exact english name type non men like shower get headnshoulders max nothing long hair r',\n",
              " 'male tampons female lock strap',\n",
              " 'ah dove men plus care extra fresh hour like best stuff',\n",
              " 'yeah thing dont even make men slap men label cause got tired insecure men never picking good soap p',\n",
              " 'source edit source made fuck',\n",
              " 'shampoo unbear',\n",
              " 'higher quality sinc',\n",
              " 'products feared toward women many times made consideration women looking knowing tend pick considerate shopping marked lot times natural specially ingredient like extracts oils known good skin hair perhaps free chemicals like sly organic instead men products like three one body face hair wash basic sly synthesis fragr',\n",
              " 'exception deodorant women products except deodorant better quality deodorant front depending harmony levels sweat smell less potent higher testosterone worse smell well much produced affected case quality effectiveness based body types soap though holy shit amount men products one shampoo body wash baffling like feel difference hair feels much rougher less comfortable feels nasty women product cares hair better improves hair health second makes feel better dont use much shampoo best use shampoo every day shower daily mean depress',\n",
              " 'wait wash hair water everyday thought would ruin work shampoo something give washing hair shampoo every third days whenever took shower would make sure wet hair telling give taking care hair wrong way since forev',\n",
              " 'peoples hair care information chinese whispers ubiquitous people learn whatever process childhood never question people talk sharing misinformation based information come take fact source guy got long hair weeks research hair car',\n",
              " 'give heard men razor better facial use idea though use lowered beard trim',\n",
              " 'woman uses men razor generally cheaper far tell well apart moisturising strips women razor go gross slim anyway prefer use razor without slime nice body lot',\n",
              " 'buy men hygienic products seem bett',\n",
              " 'men razor higher quality cheaper women',\n",
              " 'beard hair thicker competition alternative products men generally agent willing spend much product',\n",
              " 'really meant rougher hair hair rougher yes softer someone soft hair could never use men razor would get cut lot skin also pretty weak really rendered watered hair types simply sell razor rough hair standard hair soft hair skin plus like much products say men women like oh yeah men women true corps dont give shit popul',\n",
              " 'true men razor harder thicker hairs women razor thinner softer hair different nature body hair women men different course women manly body hair men womanly body hair buy opposite product marketing hair thickness would cause much confus',\n",
              " 'dont really think would cause confusion agent lot hair products already marked based hair type feel like feel body hair tell thick thin buy corresponding product would also save time people looking men women section good razor realizing need shop opposite renders section hair typ',\n",
              " 'think give seen reported times week new record',\n",
              " 'guns buying hygienic product',\n",
              " 'men products names like clean nuts n years personally organ products wash tone skin bolster serumampule moisturizer sun screen separate products yes guy microneedle week look least years younger age acne scars getting bett',\n",
              " 'plus love smell peaches ros',\n",
              " 'use dove men deodorant strong smelling old spice axe body wash use dove butter vanilla scent cause smells super good better men body wash off',\n",
              " 'time comes razor foam women products suck categori',\n",
              " 'gifgiphy ttebm uxobz h tdowns',\n",
              " 'get whatever clearance rack missed bottles smashed bars irish spr',\n",
              " 'shampoo shampoo conditioned conditioned deodorant deodorant needs matter cheap still work',\n",
              " 'yeah bett',\n",
              " 'id say pick stuff think smells nice dont use bodywash hair',\n",
              " 'almost like hygienic products agent actually necessary rendered weird concept except deodorant begging men find good men deodorant man sweat potent also men deodorant smell awful like smells exact gives headache like holy shit get men use women deodorant even though fully work soap though women soap better annoying gutta pay pink tax half used use men products holy shit twitching women products feels much better also smells better god thinking like hygienic products rendered anyway saw rendered toilet pap',\n",
              " 'women deodorant antiperspirant sucks though give ghost couple hour',\n",
              " 'hate need different shampoo bottles bathroom plus allergic lot anyway never men sensitive failed yet one use everyth',\n",
              " 'true women sincere products often come higher price tag partly due marketing wide range specialized products sometimes men sincere items offer similar benefits lower cost making budgetfriendly option worth comparing ingredient effectiveness find works best regardless market',\n",
              " 'using women body wash lotions lately smell lot bett',\n",
              " 'right female razor work breaking wel',\n",
              " 'soon collectively agree something specifically masculinefeminine based colour smell great',\n",
              " 'let boys smell nic',\n",
              " 'love normalizing gettingdoing per individuals wants needs rather abstract invisible rules encompassing begin hell yeah',\n",
              " 'buy women deodorant easier find scented price usually little cheaper versus health band',\n",
              " 'temple funny watched umbrella academi',\n",
              " 'uses body smells like spice vanilla hair gathered butter little beard',\n",
              " 'perfect meme temple scenario',\n",
              " 'men cheaper r',\n",
              " 'women hygienic products higher quality though',\n",
              " 'spoiled peopl',\n",
              " 'vanya five umbrella academy shot particular season good show heard kind got last season',\n",
              " 'jumped sharp season',\n",
              " 'ended show random even feel like justified story season',\n",
              " 'almost every netflix show ends disappointing big reason stopped watching shows either get canceled stretched suddenly decide end without clear end mind',\n",
              " 'buying menthol lov',\n",
              " 'honestly pick sure get male bodywash since smelling flowers working little awkward yeah shampoo conditioned female ones lot easier find makes hair feel much l',\n",
              " 'finally getting vindication deserve one using women products years option men stuff basic hair cleaner basic hair cleaner pretensions bottle x price meanwhile girl shit actually made treat hair properli',\n",
              " 'meme awesome burn hidden beneath surfacebravo',\n",
              " 'kid used feminine wash scrub remember feeling breezy like cold winter night',\n",
              " 'man showered use whatever sucks available got flower fruit scent shit ill smell fabulous clean car',\n",
              " 'women clinical strength degree antiperspirant works much better men equivalent sure thing keeps pits dry day',\n",
              " 'reverse popular',\n",
              " 'one many cosmetology majority women give dated told long ago put daily moisture dove conditioned hair product honestly hair crazy soft holds style clicked back parted gerry curls even wavy smells great',\n",
              " 'brush want lowest maintenance product regi',\n",
              " 'literally always wondered bought men soap etc would buying cosmetic gentle women',\n",
              " 'ill say flooded lack deodorant women antiperspirant far eye could see terrible aluminium boot',\n",
              " 'buy top gender neutral product stops ass bacteria itch',\n",
              " 'use certain women perfumed since smell often agent super strong bold prefer soothing sweet scent women perfumed commonly since match calm soft personality looks favorite perfume called winter apple bath bodyworks since soft fruit fresh sc',\n",
              " 'personally quite enjoy smelling like fruit cocktail',\n",
              " 'women deodorant lasts longer usually scent free option standard unit infantri',\n",
              " 'really cost bucks dealing men cream option store times choice pick favorite times cheap',\n",
              " 'top person probably buying men deodorant different reason',\n",
              " 'would love men would stop stealing shampoo conditioned bought like know dont go ',\n",
              " 'maybe tired smelling wood spaces maybe want smell fruit flower today',\n",
              " 'nothing done hair justice better verbal essence shampoo conditioned refused organ oil',\n",
              " 'absolutely tru',\n",
              " 'men works way better women give tried soon',\n",
              " 'give getting native feminine shampoo conditioned men stuff shit scent like sweat dogs cow shit',\n",
              " 'grew hair late year switch shampoo conditions women products exact reason stupid',\n",
              " 'guilty actu',\n",
              " 'men deodorant work better nice smell like something arctic freeze rakes rag',\n",
              " 'borrowed friends deodorant back high school absolutely blew mind effective long lasting smell pleas',\n",
              " 'bottom part men using women hygienic product',\n",
              " 'cry lush cold dead hand',\n",
              " 'head shoulder shampoo best shampoo ones made scalp either itchy clean enough made hair dry clean much head ad shoulder perfect prefer men shampoo instead women ones better hair',\n",
              " 'pretty hairy guy reason woman deodorant always worked bett',\n",
              " 'want antiperspirant smell guess men smell weird concept like irish spring lik',\n",
              " 'hello straight man quite enjoy lavender scented body wash thank much',\n",
              " 'started use woman stuff trans really freeing something tell trying smells good natural also dont pink tax czechs factor well would pay extra stil',\n",
              " 'gutta buy women higher quality gutta buy men since difference quality pink tax',\n",
              " 'give locked use thing know sure wont trigger skin condition dont need quality cheap need safe avoid axe like fucking plagu',\n",
              " 'man dont feel need buy many products women things buy want high qu',\n",
              " 'since women products better last information women products men wrote expens',\n",
              " 'banner vancouver creating second account circumvented previous ban first time id commented ever give one account dont like said course frivolously ban made reason pathetic found could whenever someone offend fragile ego',\n",
              " 'one reddish biggest flaws thing happened world news posted legitimate comment said rolling permabanned ask rolling thought process behind mut',\n",
              " 'got banner sub commenting different sub told could unburned promised never comment tell get bent trying control cried admits got sitewide banner week',\n",
              " 'yeah give one progressive sobs well sort dystopian shit preemptively banking someone commenting different sub dont like ironic part comment calling bullshit want even regular commented coming credit anyone comments toxic sob',\n",
              " 'claim even arguing sub giving traffic oxygen scar stuff',\n",
              " 'got exact messag',\n",
              " 'loading minutes h',\n",
              " 'weak',\n",
              " 'got message rjusticeserved posted rjoerogan reason given subreddit spreads misinformation go find actually subreddit dunning joe organ apparently really big fan podcast',\n",
              " 'exactly two sobs came across post decided weigh nothing post comment controversi',\n",
              " 'hilarious justiceserved used super common sub see bank used cause much bigger uproar kept kept adding sobs filter eventually fully killed subreddit',\n",
              " 'screw rdamnthatsinteresting case least',\n",
              " 'damn even political sub',\n",
              " 'best one time got message along lines banner rflerbleflarble participated rlostwumpus come find give never participated flerbleflarble made one comment lostwumpus like years ago names changed protect innoc',\n",
              " 'told either sub told grow mute day',\n",
              " 'sounds like gazing circle jerk sub',\n",
              " 'banner raskelectronics asked less apparently less allowed rul',\n",
              " 'got banner rtherewasanattempt commenting femal',\n",
              " 'woman says female time one real life gives fuck internet',\n",
              " 'mute worldnews run cap creditor',\n",
              " 'world news right like america literally hellbent destruction middle east name stopping terrorist sure many die least hamasiranisis gone right gutta kill enough people terrorist def',\n",
              " 'first mistake thinking world news real sub taken political agents propaganda got banner real person content com',\n",
              " 'try internationalnews instead',\n",
              " 'rinternationalnew',\n",
              " 'rinthenews made comment person posting story top news subreddits banner downvote tol',\n",
              " 'maybe credit remove moderation see happen',\n",
              " 'world new',\n",
              " 'tons people banner easiest world news type israel bad permanent ban appeal cause u anti smite even jew',\n",
              " 'hate partially participate webster may gotten banner random sobs decade ago dont even rememb',\n",
              " 'make new account',\n",
              " 'got banner rdamnthatsinteresting arguing calling people rwalkaway idiot said participated bridging best part comment made rwalkaway auto blocked new account',\n",
              " 'reddish problem overmoderation downvote button reason let community decide comment seen',\n",
              " 'got banner raskreddit cal',\n",
              " 'bet got bann',\n",
              " 'probably big loss though',\n",
              " 'uprising begin',\n",
              " 'damn landed vancouver give name ill sort',\n",
              " 'multiple versions boils hold smell mary japan',\n",
              " 'like polic',\n",
              " 'sub drives nuts remember years ago made post asking increase stink bags area delete slamming post back saw posts barge every single day none delete slam',\n",
              " 'gifgiphyxtitnwgq wjs sub k',\n",
              " 'south park fucking hilarious never fails make laugh',\n",
              " 'rinterestingasfuck ban saying things several sobs hit say something like message us blocked subreddit apologize sent message eat ass slip',\n",
              " 'banner wanted sub delete comments sub send message apologize urban',\n",
              " 'yeah another censuring sub block em',\n",
              " 'spoken like true g',\n",
              " 'dictat',\n",
              " 'gifgiphyjoexqzebetyyydownsized mean laden',\n",
              " 'unironicly give banner mediterranean u hate speech appealing got answered key',\n",
              " 'laden news laden',\n",
              " 'least people write books dict',\n",
              " 'heh heh dict',\n",
              " 'httpswwwredditcomrmildlyinterestingszohh ekjg',\n",
              " 'locking guns behav',\n",
              " 'later dock',\n",
              " 'getting ban ducks goose hate crowning moment credit car',\n",
              " 'similar got banner cakedecorating fondest h',\n",
              " 'could',\n",
              " 'guns told ban reason something like send one message banner needless say bann',\n",
              " 'someone tells sure going get pound flesh last messag',\n",
              " 'lmaoooo',\n",
              " 'got banner participated medical sub asked ban nurses doctors participate well replied getting warning asked exceptions people genuinely use medical sobs good reasons banner forever mut',\n",
              " 'rfuckreddit sur',\n",
              " 'give reason ask one credit admit',\n",
              " 'banner asked banner mute able send messages guess ill never know',\n",
              " 'sit front computer day human interaction flex miniscule amount power somehow',\n",
              " 'gutta reward smallest amount power worlds fragile egg',\n",
              " 'may finish argument havana',\n",
              " 'op fucking dead',\n",
              " 'alas ill hit special attack ass mov',\n",
              " 'reddish problem overmoderation sub network',\n",
              " 'remote mention political problem banner lif',\n",
              " 'political want needs support narrative want promote sobs polit',\n",
              " 'let get far ban write reply even reply back lost argument sinc',\n",
              " 'never argument eith',\n",
              " 'track record says otherwise p block',\n",
              " 'congress lost',\n",
              " 'hate speech therefore hate speech nothing wrong oo',\n",
              " 'got derma banner rendering making mon jok',\n",
              " 'remember banner guy made awesome grecoroman styled earthworks game community still pass',\n",
              " 'hell know',\n",
              " 'selfpromotion httpswwwredbubblecompeoplealcozshop redouble page er prints private pag',\n",
              " 'awesome radahn everyone charging great also think ban anti posted video sub',\n",
              " 'would hilari',\n",
              " 'op getting bann',\n",
              " 'banner concord sub recently asking target audience buy game even give reason straight bann',\n",
              " 'one important thing need start calling parents appeal unlearned authority attempt use every system stop person speaking parents became managers cal',\n",
              " 'banner news subreddit spreading misinformation comment literally write single piece inform',\n",
              " 'brow inches rtrishahershberger banner crossposting pick another sub loses rnsfw gif banking folks asking post absolute trash going nuts smallest bit pow',\n",
              " 'logs one altaccount make word whole sub',\n",
              " 'got banner rwhitepeopletwitter politely proving someone wrong biting slop',\n",
              " 'got banner years ago another account calling praising religion peace defending followers whilst sub constantly endorsed sitting christians rule thumb sub makes popular tell sub donna dentist antichristian shithole one subreddit rules islamaphobia xenophobia hate religion',\n",
              " 'know banner next time think less',\n",
              " 'pretty much amount sobs give banner supporting people wanting see everyone love dead astonish',\n",
              " 'wants dead',\n",
              " 'bunch people american universities pretty much every neighbor country also ran',\n",
              " '',\n",
              " 'jew white male guess',\n",
              " 'honestly jews general even black ones agent saf',\n",
              " 'safe west skittles haired types dont know jews come colors netanyahu',\n",
              " 'true ones west time dont guns actually something besides quote tikhon short terrified someone actually fighting back give seen video left pull knives back immediately victims show ready fight like weapons outnumbered still power moment someone power pathet',\n",
              " 'crime jewish person dares existing planet',\n",
              " 'oh feel stupid realizing mentioned ran',\n",
              " 'fair pretty sure ran rates pretty much everyone point',\n",
              " 'confirm pakistani ran rates us think jews sunny muslin maybe hindu hate ink christian',\n",
              " 'pretty sure lot christmas got purg',\n",
              " 'god enough pity party nobody persecut',\n",
              " 'funny got week long ban talking israel killing palestinian genocide edit ole reply back made sob story block',\n",
              " 'well got ban talking dont want get murdered crazy terrorist crazy world right',\n",
              " 'think college kiss protesting genocide want dead says lot says edit blocked ill post reply let get straight look past tiny minority within otherwise peaceful reasonable protest protest includes many jewish people excuse wholesale slaughter thousands innocent people may kindly suggest reexamined prior',\n",
              " 'screams death jews constant harassment jewish students otherwise says lot',\n",
              " 'kiss combed smithereens gaze every day appar',\n",
              " 'nobody wants dead ashor',\n",
              " 'wanting israel stop coming kiss aid workers means want dead flavoraid good',\n",
              " 'imagine thinking issues palestine mean people want dead people would prefer israel stopped killing kiss sorry offend',\n",
              " 'yeah like ah suddenly wanting israel commit genocide means want die wild logic leap give seen bushes palestinians allowed use give seen checkpoints stopped palestinians getting home give seen israel people moving homes palestinians arrested give seen israel soldiers excited kill palestinian people go beyond brutally senseless destruction last months acting like peacekeeping mission height ignorance dont support think gone far hear israel school children say want grow destroy palestine think know whose fault exists first plac',\n",
              " 'apologies dont want get murdered terrorist friends family rapid know daring continue breathing offensive antiseptic asserts unfortunately jews despite best efforts forever outlived paris wed outl',\n",
              " 'obsessed victim trying force something straight',\n",
              " 'fair prerequisite credit',\n",
              " 'ones raging country protested military arrested raging country quite literally settling west bank family l',\n",
              " 'many fellow palestinians murdered far cry riv',\n",
              " 'hate speech h',\n",
              " 'banner rnewhampshire criticizing libertarianism go figur',\n",
              " 'even simple discussion suddenly become hate speech disagre',\n",
              " 'pathetic douchebags ruined site used pretty cool',\n",
              " 'favorite get banner sub never new one saw day blocked toll account toll sub use ban grass admits noth',\n",
              " 'happen calling woman future cat lady got banner misogynyhate speech like utf',\n",
              " 'banner sub got one paid altar things first cam',\n",
              " 'worldnews literally paid mouthpiece europe sub racism xenophobic anyone give encountered years living u',\n",
              " 'rnuclearpower bank like nuclear energi',\n",
              " 'said israel killed reporter conflict since www combined worldpolitics got banner fuck em',\n",
              " 'considered hate speech mercy free speech conserv',\n",
              " 'europe nutshell right',\n",
              " 'banner asking attacking jews right europe called dog whistl',\n",
              " 'talking politics forget rub democrat',\n",
              " 'got banner comic credit said comic strip misandrist exist guess exist done women latent horrible shit men yeah fine dont call though exist',\n",
              " 'governments also use box',\n",
              " 'meme donna get banner hate speech',\n",
              " 'gifgiphyp zrtyacmpsjpnd r downs',\n",
              " 'people simply meant pow',\n",
              " 'hate speech exist change mind',\n",
              " 'got banner leftleaning sub saying paris florida get shot many layers irony even get mad',\n",
              " 'like banner political sobs native white people dont want called coloni',\n",
              " 'elson buy credit delet',\n",
              " 'given terribly elson handled twitter id rather come near worse things could credit shut though terrible idea honestli',\n",
              " 'like anyone commit either racism exist ist',\n",
              " 'hope wont give surpris',\n",
              " 'permanently banner picture based subreddit proper n',\n",
              " 'feed dog',\n",
              " 'loses get paid',\n",
              " 'could tag subreddits give handed permanent bank absolutely reason',\n",
              " 'subreddit nutshel',\n",
              " 'reason pull mass',\n",
              " 'welcome rock car crash noise play nothing rock rock rock silent aunt granny station gunshot waking ash blood',\n",
              " 'ash dust',\n",
              " 'wipe brow sweat rust',\n",
              " 'breathing chemicals deep breath',\n",
              " 'type started nois',\n",
              " 'wilhelm scream',\n",
              " 'leg soda death sound',\n",
              " 'move away mid breath',\n",
              " 'miss ass slap nut',\n",
              " 'going vaginal deep breath',\n",
              " 'radioactive radioactive ohohohohoh ohohohoho radioactive radioact',\n",
              " 'oreille auto parts thousands parts stock local department oh oh oh greeley auto part',\n",
              " 'every time see meme temple worse on',\n",
              " 'tired pretend',\n",
              " 'class',\n",
              " 'damn good',\n",
              " 'hot takes unpopular opinions edges could low head on',\n",
              " 'next one contain minecraft enchanting table text',\n",
              " 'least already used factoryline mem',\n",
              " 'imagine dragon deep balls across mouth may silli',\n",
              " 'personally chuckl',\n",
              " 'personally chuckled saying personally chuckled actual jok',\n",
              " 'personally chortled saying chuckled instead chuckl',\n",
              " 'personally chuckled pointing tired currently seen typ',\n",
              " 'personally chuckled saying tired caus',\n",
              " 'personally chuckled cause probably last one chain',\n",
              " 'personally chuckled cause tru',\n",
              " 'personally chuckled cause thought comment last one chain',\n",
              " 'personally chuckled cause still put chain',\n",
              " 'may got em',\n",
              " 'thank made actually laugh loud',\n",
              " 'everybody wants enemi',\n",
              " 'peoples favorite rock band hate nowadays granted think first two albums best done stil',\n",
              " 'agree first two album tak',\n",
              " 'way could even considered alternative completely mainstream alternative noth',\n",
              " 'barely rock',\n",
              " 'alternative music geniu',\n",
              " 'evaluate inherent dislike think boils commercial success band never seemed release song worthy hope bad band many better bands get love guns show one day nobody really knows instinct assume kind connection industry success less grassroots suits maybe instincts wrong id accept think sentiment popular one even misinform',\n",
              " 'think lot cases boils appealing broad audience lot people make relatively normal tame music thing works really well general audience long sounds good know people really music might think boring average person different perspective maybe dont know talking know',\n",
              " 'person rarely ever listens music confirm sound good beat manages hope bit good cut days barely get b',\n",
              " 'think music big days big radiostreamingrecording companies want saturated us enough justify calling popular',\n",
              " 'band makes better music mean successful commercial comes commercial success appealing masses makes band stand average person real interest details song hear songs like believer radioactive etc think fire good reason',\n",
              " 'like imagine dragoons honestly dont like believer bor',\n",
              " 'stare peoples favorite rock band hate nowadays long way writing suck',\n",
              " 'please join hate nickelback',\n",
              " 'please join hate nickelback',\n",
              " 'make pretty good music overplayed similar thing happened deeper nickelback industry really likes obviously fan people hate everything popular often loudest onlin',\n",
              " 'nickelback deeper far better imagine dragoons fan eith',\n",
              " 'smoke mirrors actually good mio',\n",
              " 'ink album love song shots think amazing like band song alon',\n",
              " 'thinking got',\n",
              " 'went hill quickli',\n",
              " 'true',\n",
              " 'terrible people make repetition mio many songs sound talented though doubt',\n",
              " 'funny cause reason dont really like songs different cannot understand styl',\n",
              " 'nowhere close hot take popular band',\n",
              " 'make great music dig deeper enemy thunder believer anything heard radio',\n",
              " 'natural favourit',\n",
              " 'sparks favorit',\n",
              " 'eyes closed well mio',\n",
              " 'say natural good',\n",
              " 'zero bad either even radio friendli',\n",
              " 'enemy bad featur',\n",
              " 'enemy gr',\n",
              " 'would say almost every song first album',\n",
              " 'river charming summer amsterdam easy come easy go best ones lyric comes imagine dragoon',\n",
              " 'radioactive pretty good',\n",
              " 'wrecked bet life zero favourite dont like thunder radioactive mainstream ones demon mainstream great also favourit',\n",
              " 'demon still mainstream see mentioned throughout post',\n",
              " 'hm',\n",
              " 'pop like new age red hot child pepper peddler nickelback',\n",
              " 'always thought india rock th',\n",
              " 'thought make rock pop',\n",
              " 'decent',\n",
              " 'yeah like brow utf make great mus',\n",
              " 'even thinks make decent music gifgiphyxi ostkpljgbm',\n",
              " 'decent old stuff hits absolutely hard',\n",
              " 'dont like personally music subjective beauty mus',\n",
              " 'dont really like stuff bad enough complain starts playing wont ever look',\n",
              " 'make kind music hear deep commerci',\n",
              " 'best dont care anyone else think',\n",
              " 'hot take radioact',\n",
              " 'sure would ever pretend like something like thing shame comes music makes feel good',\n",
              " 'make good music music corn like type music neckbeards find empow',\n",
              " 'yeah personally favorite sont rafioactive sings oh oh oh oh oh oh oh oh need vacuum need vacuum',\n",
              " 'getting flute salad vices font',\n",
              " 'feel hardi',\n",
              " 'music subjective even band think bland horrible still fan',\n",
              " 'agree th reason hear much radio show',\n",
              " 'wish never gave would good originality always win',\n",
              " 'like nickelback technically decent music versed overplayed stand hearing anymor',\n",
              " 'honestly classic beautiful bones thunder enemy radioactive warriors time machine natural songs love least beatsab',\n",
              " 'music cup tea bad people mak',\n",
              " 'yeah give always known ever say ever sex credit ever everyone freak deny downvote oblivion thank confirm',\n",
              " 'personally enjoy stuff seems like became next popular band people rag dont think particularly amazing certainly agent outright bad',\n",
              " ...]"
            ]
          },
          "execution_count": 49,
          "metadata": {},
          "output_type": "execute_result"
        }
      ],
      "source": [
        "# انا عايزه دلوقت اعمل كل اللى انا عملته دا على الريفيوهات كلها علشان انا كنت شغاله على ريفيو واحد\n",
        "corpus=[] #دي لست هعملها تكون بمثابه شنطه احط فيها الكلمات علشان بعد كدا اعملهم فيكتوريزيشن\n",
        "for i in range(len(data)):           #لف على الداتا كلها\n",
        "    st=re.sub('[^a-zA-Z]',\" \",train[i])\n",
        "    st=st.lower()\n",
        "    st=st.split()\n",
        "    st=[word for word in st if word not in stopwords.words('english')] #List Comprehension\n",
        "    st=' '.join(st)\n",
        "    st=ps.stem(st)\n",
        "    corpus.append(st)\n",
        "corpus"
      ]
    },
    {
      "cell_type": "code",
      "execution_count": null,
      "metadata": {
        "colab": {
          "base_uri": "https://localhost:8080/"
        },
        "id": "amxcw9PLod4y",
        "outputId": "9642191a-c48e-4fcd-827d-85e1ad1c0ce4"
      },
      "outputs": [
        {
          "data": {
            "text/plain": [
              "array([[0, 0, 0, ..., 0, 0, 0],\n",
              "       [0, 0, 0, ..., 0, 0, 0],\n",
              "       [0, 0, 0, ..., 0, 0, 0],\n",
              "       ...,\n",
              "       [0, 0, 0, ..., 0, 0, 0],\n",
              "       [0, 0, 0, ..., 0, 0, 0],\n",
              "       [0, 0, 0, ..., 0, 0, 0]])"
            ]
          },
          "execution_count": 53,
          "metadata": {},
          "output_type": "execute_result"
        }
      ],
      "source": [
        "cv=CountVectorizer()\n",
        "cv.fit_transform(corpus).toarray()"
      ]
    },
    {
      "cell_type": "code",
      "execution_count": null,
      "metadata": {
        "colab": {
          "base_uri": "https://localhost:8080/"
        },
        "id": "DM17K-FMwPt6",
        "outputId": "772db940-04d5-4c6c-9701-26ce3bebf4e9"
      },
      "outputs": [
        {
          "data": {
            "text/plain": [
              "1772"
            ]
          },
          "execution_count": 67,
          "metadata": {},
          "output_type": "execute_result"
        }
      ],
      "source": [
        "len(corpus)"
      ]
    },
    {
      "cell_type": "code",
      "execution_count": null,
      "metadata": {
        "colab": {
          "base_uri": "https://localhost:8080/"
        },
        "id": "puPfKCUnod4z",
        "outputId": "cc52b2d9-1cc7-4a5e-958a-beb019a4aecc"
      },
      "outputs": [
        {
          "data": {
            "text/plain": [
              "(1772, 4189)"
            ]
          },
          "execution_count": 68,
          "metadata": {},
          "output_type": "execute_result"
        }
      ],
      "source": [
        "X = cv.transform(corpus).toarray()\n",
        "y = data['Sentiment Type'].to_numpy()\n",
        "X.shape"
      ]
    },
    {
      "cell_type": "code",
      "execution_count": null,
      "metadata": {
        "colab": {
          "base_uri": "https://localhost:8080/"
        },
        "id": "_N1d-fulvzvZ",
        "outputId": "780e5143-c261-4c3d-8aa9-64054dd73a3f"
      },
      "outputs": [
        {
          "data": {
            "text/plain": [
              "(1772,)"
            ]
          },
          "execution_count": 69,
          "metadata": {},
          "output_type": "execute_result"
        }
      ],
      "source": [
        "y.shape"
      ]
    },
    {
      "cell_type": "markdown",
      "metadata": {
        "id": "3WFljgvCod4z"
      },
      "source": [
        "Model Building"
      ]
    },
    {
      "cell_type": "code",
      "execution_count": null,
      "metadata": {
        "id": "wGk9jBrTod40"
      },
      "outputs": [],
      "source": [
        "from sklearn.model_selection import train_test_split"
      ]
    },
    {
      "cell_type": "code",
      "execution_count": null,
      "metadata": {
        "id": "xnVSIcdKod4-"
      },
      "outputs": [],
      "source": [
        "X_train,X_test,y_train,y_test=train_test_split(X, y, test_size=0.2, random_state=42)"
      ]
    },
    {
      "cell_type": "code",
      "execution_count": null,
      "metadata": {
        "colab": {
          "base_uri": "https://localhost:8080/"
        },
        "id": "HY10IKWWod4-",
        "outputId": "99ba67a0-2950-49f1-d87b-0a64f79fbcc3"
      },
      "outputs": [
        {
          "data": {
            "text/plain": [
              "(1417, 4189)"
            ]
          },
          "execution_count": 74,
          "metadata": {},
          "output_type": "execute_result"
        }
      ],
      "source": [
        "X_train.shape"
      ]
    },
    {
      "cell_type": "code",
      "execution_count": null,
      "metadata": {
        "colab": {
          "base_uri": "https://localhost:8080/"
        },
        "id": "UHES5qLbod4_",
        "outputId": "b68b2b36-3169-4e11-b960-9d13629656df"
      },
      "outputs": [
        {
          "data": {
            "text/plain": [
              "(355, 4189)"
            ]
          },
          "execution_count": 75,
          "metadata": {},
          "output_type": "execute_result"
        }
      ],
      "source": [
        "X_test.shape"
      ]
    },
    {
      "cell_type": "code",
      "execution_count": null,
      "metadata": {
        "id": "njFMZq7Lod5A"
      },
      "outputs": [],
      "source": [
        "from sklearn.feature_extraction.text import TfidfVectorizer\n",
        "from sklearn.ensemble import RandomForestClassifier\n",
        "from sklearn.metrics import accuracy_score"
      ]
    },
    {
      "cell_type": "code",
      "execution_count": null,
      "metadata": {
        "colab": {
          "base_uri": "https://localhost:8080/"
        },
        "id": "yi1PHjoOod5B",
        "outputId": "788dfcde-114e-4629-da6d-61336e54562e"
      },
      "outputs": [
        {
          "name": "stdout",
          "output_type": "stream",
          "text": [
            "1772 1772\n"
          ]
        }
      ],
      "source": [
        "print(len(X), len(y))\n"
      ]
    },
    {
      "cell_type": "code",
      "execution_count": null,
      "metadata": {
        "colab": {
          "base_uri": "https://localhost:8080/"
        },
        "id": "9XIhIaZmod5C",
        "outputId": "bdeee12b-f7ec-48f9-b733-73b7e7b3c85b"
      },
      "outputs": [
        {
          "name": "stdout",
          "output_type": "stream",
          "text": [
            "training accuracy:  0.9985885673959068\n",
            "testing accuracy:  0.7070422535211267\n"
          ]
        }
      ],
      "source": [
        "from sklearn.svm import SVC\n",
        "svm_model = SVC(kernel = 'linear')\n",
        "svm_model.fit(X_train, y_train)\n",
        "\n",
        "print(\"training accuracy: \", svm_model.score(X_train,y_train))\n",
        "print(\"testing accuracy: \", svm_model.score(X_test,y_test))"
      ]
    },
    {
      "cell_type": "code",
      "execution_count": null,
      "metadata": {
        "id": "mtlc4wjNwBsn"
      },
      "outputs": [],
      "source": [
        "from sklearn.ensemble import RandomForestClassifier"
      ]
    },
    {
      "cell_type": "code",
      "execution_count": null,
      "metadata": {
        "colab": {
          "base_uri": "https://localhost:8080/"
        },
        "id": "3OX6qMJ9wyJ5",
        "outputId": "6d7e2089-ab5e-4677-9995-fa4f467a98f2"
      },
      "outputs": [
        {
          "name": "stdout",
          "output_type": "stream",
          "text": [
            "training accuracy:  1.0\n",
            "testing accuracy:  0.7126760563380282\n"
          ]
        }
      ],
      "source": [
        "random_forest = RandomForestClassifier(n_estimators=100)\n",
        "random_forest.fit(X_train, y_train)\n",
        "\n",
        "print(\"training accuracy: \", random_forest.score(X_train,y_train))\n",
        "print(\"testing accuracy: \", random_forest.score(X_test,y_test))"
      ]
    },
    {
      "cell_type": "code",
      "execution_count": null,
      "metadata": {
        "id": "ePIq56xYxOGY"
      },
      "outputs": [],
      "source": []
    }
  ],
  "metadata": {
    "colab": {
      "provenance": []
    },
    "kernelspec": {
      "display_name": "Python 3",
      "language": "python",
      "name": "python3"
    },
    "language_info": {
      "codemirror_mode": {
        "name": "ipython",
        "version": 3
      },
      "file_extension": ".py",
      "mimetype": "text/x-python",
      "name": "python",
      "nbconvert_exporter": "python",
      "pygments_lexer": "ipython3",
      "version": "3.12.0"
    }
  },
  "nbformat": 4,
  "nbformat_minor": 0
}
